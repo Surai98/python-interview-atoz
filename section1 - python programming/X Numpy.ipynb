{
 "cells": [
  {
   "cell_type": "code",
   "execution_count": 1,
   "metadata": {},
   "outputs": [],
   "source": [
    "import numpy as np"
   ]
  },
  {
   "cell_type": "code",
   "execution_count": 4,
   "metadata": {},
   "outputs": [
    {
     "name": "stdout",
     "output_type": "stream",
     "text": [
      "a:  [0 1 2 3 4 5 6 7 8 9]\n",
      "a_copy:  [0 1 2 3 4 5 6 7 8 9]\n",
      "a:  [  0   1 200   3   4   5   6   7   8   9]\n",
      "a_copy:  [100   1   2   3   4   5   6   7   8   9]\n",
      "a_slice;  [2 4 6 8]\n",
      "[700   4   6   8]\n",
      "[  0   1 700   3   4   5   6   7   8   9]\n"
     ]
    }
   ],
   "source": [
    "a = np.array(range(0,10))\n",
    "a_copy = np.copy(a)\n",
    "print('a: ',a)\n",
    "print('a_copy: ',a_copy)\n",
    "a_copy[0] = 100\n",
    "a[2] = 200\n",
    "print('a: ',a)\n",
    "print('a_copy: ',a_copy)\n",
    "\n",
    "\n",
    "a = np.array(range(0,10))\n",
    "a_slice = a[2:9:2]\n",
    "print('a_slice; ',a_slice)\n",
    "b = a[2:9:2]\n",
    "b[0] = 700\n",
    "\n",
    "\n",
    "print(b)\n",
    "print(a)"
   ]
  },
  {
   "cell_type": "code",
   "execution_count": null,
   "metadata": {},
   "outputs": [],
   "source": []
  }
 ],
 "metadata": {
  "kernelspec": {
   "display_name": "Python 3",
   "language": "python",
   "name": "python3"
  },
  "language_info": {
   "codemirror_mode": {
    "name": "ipython",
    "version": 3
   },
   "file_extension": ".py",
   "mimetype": "text/x-python",
   "name": "python",
   "nbconvert_exporter": "python",
   "pygments_lexer": "ipython3",
   "version": "3.5.6"
  }
 },
 "nbformat": 4,
 "nbformat_minor": 2
}
