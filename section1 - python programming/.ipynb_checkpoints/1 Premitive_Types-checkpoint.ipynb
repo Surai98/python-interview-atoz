{
 "cells": [
  {
   "cell_type": "markdown",
   "metadata": {},
   "source": [
    "## Table of Contents\n",
    "---\n",
    "__PRIMITIVE TYPES__\n",
    "- [bool](#)\n",
    "- [int](#)\n",
    "- [float](#)\n",
    "- [string](#)\n"
   ]
  },
  {
   "cell_type": "code",
   "execution_count": 46,
   "metadata": {},
   "outputs": [],
   "source": [
    "import sys"
   ]
  },
  {
   "cell_type": "code",
   "execution_count": 45,
   "metadata": {},
   "outputs": [
    {
     "name": "stdout",
     "output_type": "stream",
     "text": [
      "<class 'bool'> 28 1\n",
      "<class 'int'> 28 6 b'\\x00\\x00 '\n",
      "<class 'float'> 24 0x1.523d70a3d70a4p+3\n",
      "<class 'str'> 50\n"
     ]
    }
   ],
   "source": [
    "#reassinged\n",
    "\n",
    "i = True \n",
    "print(type(i), sys.getsizeof(i), i.bit_length())\n",
    "\n",
    "i = 32\n",
    "print(type(i), sys.getsizeof(i), i.bit_length(), i.to_bytes(3, 'big'))\n",
    "\n",
    "i = 10.570\n",
    "print(type(i), sys.getsizeof(i), i.hex())\n",
    "\n",
    "i = 'a'\n",
    "print(type(i), sys.getsizeof(i))"
   ]
  },
  {
   "cell_type": "code",
   "execution_count": 14,
   "metadata": {},
   "outputs": [
    {
     "name": "stdout",
     "output_type": "stream",
     "text": [
      "10\n",
      "10.0\n",
      "10\n"
     ]
    }
   ],
   "source": [
    "#converting from int to float \n",
    "i = 10\n",
    "print(i)\n",
    "\n",
    "j = float(i)\n",
    "print(j)\n",
    "\n",
    "k = str(i)\n",
    "print(k)"
   ]
  },
  {
   "cell_type": "code",
   "execution_count": 17,
   "metadata": {},
   "outputs": [
    {
     "name": "stdout",
     "output_type": "stream",
     "text": [
      "30\n",
      "Hello world\n",
      "7.2\n"
     ]
    }
   ],
   "source": [
    "#primitave operations \n",
    "i = 10+20\n",
    "print(i)\n",
    "\n",
    "j = \"Hello\" + \" world\"\n",
    "print(j)\n",
    "\n",
    "k = 5.2 + 2\n",
    "print(k)"
   ]
  },
  {
   "cell_type": "code",
   "execution_count": 20,
   "metadata": {},
   "outputs": [
    {
     "name": "stdout",
     "output_type": "stream",
     "text": [
      "200\n",
      "HelloHello\n",
      "10.4\n"
     ]
    }
   ],
   "source": [
    "i = 10*20\n",
    "print(i)\n",
    "\n",
    "j = \"Hello\" * 2\n",
    "print(j)\n",
    "\n",
    "k = 5.2 * 2\n",
    "print(k)"
   ]
  },
  {
   "cell_type": "code",
   "execution_count": 26,
   "metadata": {},
   "outputs": [
    {
     "name": "stdout",
     "output_type": "stream",
     "text": [
      "0.5\n",
      "0\n",
      "10\n",
      "2.6\n"
     ]
    }
   ],
   "source": [
    "floatCofficient = 10/20\n",
    "print(floatCofficient)\n",
    "\n",
    "Intcoefficient = 10//20\n",
    "print(Intcoefficient)\n",
    "\n",
    "remainder = 10%20\n",
    "print(remainder)\n",
    "\n",
    "#j = \"Hello\"/2\n",
    "#print(j)\n",
    "\n",
    "k = 5.2 / 2\n",
    "print(k)"
   ]
  },
  {
   "cell_type": "code",
   "execution_count": null,
   "metadata": {},
   "outputs": [],
   "source": []
  }
 ],
 "metadata": {
  "kernelspec": {
   "display_name": "Python 3",
   "language": "python",
   "name": "python3"
  },
  "language_info": {
   "codemirror_mode": {
    "name": "ipython",
    "version": 3
   },
   "file_extension": ".py",
   "mimetype": "text/x-python",
   "name": "python",
   "nbconvert_exporter": "python",
   "pygments_lexer": "ipython3",
   "version": "3.6.5"
  }
 },
 "nbformat": 4,
 "nbformat_minor": 2
}
