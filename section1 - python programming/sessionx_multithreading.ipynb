{
 "cells": [
  {
   "cell_type": "code",
   "execution_count": 1,
   "metadata": {},
   "outputs": [],
   "source": [
    "from threading import Thread\n",
    "from time import sleep"
   ]
  },
  {
   "cell_type": "code",
   "execution_count": 2,
   "metadata": {},
   "outputs": [],
   "source": [
    "def a1(n1):\n",
    "    for i in range(n1):\n",
    "        print('a1 :',i)\n",
    "        sleep(1)\n",
    "\n",
    "def a2(n2):\n",
    "    for i in range(n2):\n",
    "        print('a2 :',i)\n",
    "        sleep(1)"
   ]
  },
  {
   "cell_type": "code",
   "execution_count": 4,
   "metadata": {},
   "outputs": [
    {
     "name": "stdout",
     "output_type": "stream",
     "text": [
      "a2 : 0\n",
      "a1 : 0\n",
      "a2 : 1\n",
      "a1 : 1\n",
      "a2 : 2\n",
      "a1 : 2\n",
      "a2 : 3\n",
      "a1 : 3\n"
     ]
    }
   ],
   "source": [
    "t1 = Thread(target=a1,args=(20,))\n",
    "t2 = Thread(target=a2,args=(20,))\n",
    "t2.start()\n",
    "t1.start()\n",
    "# t2.start()\n"
   ]
  },
  {
   "cell_type": "code",
   "execution_count": 5,
   "metadata": {},
   "outputs": [
    {
     "name": "stdout",
     "output_type": "stream",
     "text": [
      "1\n",
      "a2 : 4\n",
      "a1 : 4\n",
      "a2 : 5\n",
      "a1 : 5\n",
      "a2 : 6\n",
      "a1 : 6\n",
      "a2 : 7\n",
      "a1 : 7\n"
     ]
    }
   ],
   "source": [
    "a = 1\n",
    "print(a)"
   ]
  },
  {
   "cell_type": "code",
   "execution_count": 6,
   "metadata": {},
   "outputs": [
    {
     "name": "stdout",
     "output_type": "stream",
     "text": [
      "a2 : 8\n",
      "a1 : 8\n",
      "1\n",
      "a2 : 9\n",
      "a1 : 9\n",
      "a2 : 10\n",
      "a1 : 10\n",
      "a2 : 11\n",
      "a1 : 11\n",
      "a2 : 12\n",
      "a1 : 12\n",
      "a2 : 13\n",
      "a1 : 13\n",
      "a2 : 14\n",
      "a1 : 14\n"
     ]
    }
   ],
   "source": [
    "a = 1\n",
    "print(a)"
   ]
  },
  {
   "cell_type": "code",
   "execution_count": 7,
   "metadata": {},
   "outputs": [
    {
     "name": "stdout",
     "output_type": "stream",
     "text": [
      "1\n",
      "a2 : 15\n",
      "a1 : 15\n",
      "a2 : 16\n",
      "a1 : 16\n"
     ]
    }
   ],
   "source": [
    "a = 1\n",
    "print(a)"
   ]
  },
  {
   "cell_type": "code",
   "execution_count": 8,
   "metadata": {},
   "outputs": [
    {
     "name": "stdout",
     "output_type": "stream",
     "text": [
      "a2 : 17\n",
      "a1 : 17\n",
      "1\n",
      "a2 : 18\n",
      "a1 : 18\n"
     ]
    }
   ],
   "source": [
    "a = 1\n",
    "print(a)"
   ]
  },
  {
   "cell_type": "code",
   "execution_count": 9,
   "metadata": {},
   "outputs": [
    {
     "name": "stdout",
     "output_type": "stream",
     "text": [
      "1\n",
      "a2 : 19\n",
      "a1 : 19\n"
     ]
    }
   ],
   "source": [
    "a = 1\n",
    "print(a)"
   ]
  },
  {
   "cell_type": "code",
   "execution_count": 10,
   "metadata": {},
   "outputs": [
    {
     "name": "stdout",
     "output_type": "stream",
     "text": [
      "1\n"
     ]
    }
   ],
   "source": [
    "a = 1\n",
    "print(a)"
   ]
  },
  {
   "cell_type": "code",
   "execution_count": null,
   "metadata": {},
   "outputs": [],
   "source": []
  }
 ],
 "metadata": {
  "kernelspec": {
   "display_name": "Python 3",
   "language": "python",
   "name": "python3"
  },
  "language_info": {
   "codemirror_mode": {
    "name": "ipython",
    "version": 3
   },
   "file_extension": ".py",
   "mimetype": "text/x-python",
   "name": "python",
   "nbconvert_exporter": "python",
   "pygments_lexer": "ipython3",
   "version": "3.5.6"
  }
 },
 "nbformat": 4,
 "nbformat_minor": 2
}
