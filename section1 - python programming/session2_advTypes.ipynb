{
 "cells": [
  {
   "cell_type": "markdown",
   "metadata": {},
   "source": [
    "# Advanced data types\n",
    "- list\n",
    "- tuple\n",
    "- dictionary\n",
    "- set"
   ]
  },
  {
   "cell_type": "code",
   "execution_count": 24,
   "metadata": {},
   "outputs": [
    {
     "name": "stdout",
     "output_type": "stream",
     "text": [
      "<class 'list'> [1, 2, 3, 4]\n",
      "<class 'tuple'> (10, 20, 30, 40)\n",
      "<class 'dict'> {'i': 4, 'j': 3, 'k': 2, 'l': 1}\n",
      "<class 'set'> {200, 100, 400, 300}\n"
     ]
    }
   ],
   "source": [
    "a = [1,2,3,4]\n",
    "print(type(a),a)\n",
    "\n",
    "b = (10,20,30,40)\n",
    "print(type(b),b)\n",
    "\n",
    "c = {'i':4,'j':3,'k':2,'l':1}\n",
    "print(type(c),c)\n",
    "\n",
    "d = {100,200,300,400}\n",
    "print(type(d),d)"
   ]
  },
  {
   "cell_type": "markdown",
   "metadata": {},
   "source": [
    "# Properties\n",
    "\n",
    "## List properties "
   ]
  },
  {
   "cell_type": "code",
   "execution_count": 51,
   "metadata": {},
   "outputs": [
    {
     "name": "stdout",
     "output_type": "stream",
     "text": [
      "length of list:  4\n",
      "Mutable property:  [1, 2, 10, 4]\n",
      "[1, 2, 10, 'Hello']\n",
      "[['a', 'b'], 2, 10, 'Hello']\n",
      "[['a', 'b'], 2, 10, 'Hello', '100']\n",
      "[['a', 'b'], 2, 10, 'Hello']\n",
      "[['a', 'b'], 2, 'insert in idx 2', 10, 'Hello']\n",
      "[['a', 'b'], 2, 'insert in idx 2', 'Hello']\n",
      "[['a', 'b'], 2, 'insert in idx 2', 'Hello', 1, 2, 3, 4]\n",
      "[4, 3, 2, 1, 'Hello', 'insert in idx 2', 2, ['a', 'b']]\n",
      "list before manupulation: [4, 3, 2, 1, 'Hello', 'insert in idx 2', 2, ['a', 'b']]\n",
      "list after manupulation: [4, 3, 2, 1, 'Hello', 'insert in idx 2', 2]\n",
      "list deep copy: [4, 3, 2, 1, 'Hello', 'insert in idx 2', 2, ['a', 'b']]\n",
      "list shallow copy: [4, 3, 2, 1, 'Hello', 'insert in idx 2', 2]\n",
      "Sort:  [-1.1, 1, 2, 6, 8]\n",
      "-----------------Slicing---------------\n",
      "a:  [0, 1, 2, 3, 4, 5, 6, 7, 8, 9, 10, 11, 12, 13, 14, 15, 16, 17, 18, 19]\n",
      "a_slice:  [2, 4, 6, 8]\n",
      "a:  [0, 1, 2, 3, 4, 5, 6, 7, 8, 9, 10, 11, 12, 13, 14, 15, 16, 17, 18, 19]\n",
      "a_slice:  [10000, 4, 6, 8]\n"
     ]
    }
   ],
   "source": [
    "a = [1,2,3,4]\n",
    "\n",
    "# Length of list\n",
    "print('length of list: ',len(a))\n",
    "\n",
    "# List is mutable\n",
    "a[2] = 10\n",
    "print('Mutable property: ',a)\n",
    "\n",
    "# List can hold any type\n",
    "a[3] = 'Hello'\n",
    "print(a)\n",
    "a[0] = ['a','b']\n",
    "print(a)\n",
    "\n",
    "# Appending to List - appends only in the end\n",
    "a.append('100')\n",
    "print(a)\n",
    "\n",
    "# pop from list - pops the last element from the list\n",
    "a.pop()\n",
    "print(a)\n",
    "\n",
    "# insert at any position\n",
    "a.insert(2,'insert in idx 2')\n",
    "print(a)\n",
    "\n",
    "# remove from any position\n",
    "a.remove(10)\n",
    "print(a)\n",
    "\n",
    "# extend list\n",
    "a.extend([1,2,3,4])\n",
    "print(a)\n",
    "\n",
    "# reverse list\n",
    "a.reverse()\n",
    "print(a)\n",
    "\n",
    "# Copy list\n",
    "a1 = a.copy()\n",
    "a2 = a\n",
    "print('list before manupulation:', a)\n",
    "a.pop()\n",
    "print('list after manupulation:', a)\n",
    "print('list deep copy:', a1)\n",
    "print('list shallow copy:', a2)\n",
    "\n",
    "# sort list\n",
    "a2 = [6,8,2,1,-1.1]\n",
    "a2.sort()\n",
    "print('Sort: ',a2)\n",
    "\n",
    "# All the above list methods (except copy) perform action on the original list but don't return any value. \n",
    "\n",
    "# List Slicing\n",
    "print('-----------------Slicing---------------')\n",
    "a = list(range(0,20))\n",
    "\n",
    "print('a: ',a)\n",
    "start = 2\n",
    "end = 10\n",
    "step = 2\n",
    "a_slice = a[start:end:step]    # Note: deep copy to a_slice\n",
    "print('a_slice: ',a_slice)\n",
    "a_slice[0] = 10000\n",
    "print('a: ',a)\n",
    "print('a_slice: ',a_slice)\n"
   ]
  },
  {
   "cell_type": "markdown",
   "metadata": {},
   "source": [
    "## Tuple Properties"
   ]
  },
  {
   "cell_type": "code",
   "execution_count": 42,
   "metadata": {},
   "outputs": [
    {
     "name": "stdout",
     "output_type": "stream",
     "text": [
      "length of list:  7\n",
      "('a', 1.2, 100)\n",
      "Index of 1.2 in b0 is  1\n"
     ]
    }
   ],
   "source": [
    "# Tuples are immutable\n",
    "b = (10,20,30,40)\n",
    "# b[1] = 200\n",
    "\n",
    "\n",
    "# Length of tuple\n",
    "print('length of list: ',len(a))\n",
    "\n",
    "# Tuple can hold any type\n",
    "b0 = ('a',1.2,100)\n",
    "print(b0)\n",
    "\n",
    "print('Index of 1.2 in b0 is ',b0.index(1.2))\n",
    "# print('Index of 10000 in b0 is ',b0.index(10000))"
   ]
  },
  {
   "cell_type": "markdown",
   "metadata": {},
   "source": [
    "## Dictionary Properties"
   ]
  },
  {
   "cell_type": "code",
   "execution_count": 58,
   "metadata": {},
   "outputs": [
    {
     "name": "stdout",
     "output_type": "stream",
     "text": [
      "Keys:  dict_keys(['i', 'j', 'k', 'l'])\n",
      "Values:  dict_values([4, 3, 2, 1])\n",
      "Items:  dict_items([('i', 4), ('j', 3), ('k', 2), ('l', 1)])\n",
      "length of Dict:  4\n",
      "{'i': [40, 50, 'a'], 'j': 3, 'k': 2, 'l': 1}\n",
      "{'i': [40, 50, 'a'], 'm': ['m'], 'j': 3, 'k': 2, 'l': 1}\n",
      "{'m': ['m'], 'j': 3, 'k': 2, 'l': 1}\n"
     ]
    }
   ],
   "source": [
    "c = {'i':4,'j':3,'k':2,'l':1}\n",
    "\n",
    "# Get Keys\n",
    "print('Keys: ',c.keys())\n",
    "\n",
    "# Get Values\n",
    "print('Values: ',c.values())\n",
    "\n",
    "# Get Items\n",
    "print('Items: ',c.items())\n",
    "\n",
    "# Length of Dict\n",
    "print('length of Dict: ',len(c))\n",
    "\n",
    "# Dictionary is mutable\n",
    "c['i'] = [40,50,'a']\n",
    "print(c)\n",
    "\n",
    "# Add to Dict\n",
    "c['m'] = ['m']\n",
    "print(c)\n",
    "\n",
    "# Delete from Dict\n",
    "c.pop('i')\n",
    "print(c)"
   ]
  },
  {
   "cell_type": "markdown",
   "metadata": {},
   "source": [
    "## Set Properties"
   ]
  },
  {
   "cell_type": "code",
   "execution_count": 80,
   "metadata": {},
   "outputs": [
    {
     "name": "stdout",
     "output_type": "stream",
     "text": [
      "Length of Set: 4\n",
      "{200, 'Hello', 100, 400, 300}\n",
      "d:  {200, 'Hello', 100, 400, 300}\n",
      "d:  {200, 'Hello', 400, 300}\n",
      "d1:  {200, 10, 40, 300}\n",
      "Intersection:  {200, 300}\n",
      "Union:  {200, 40, 10, 300, 400, 'Hello'}\n",
      "Difference:  {'Hello', 400}\n",
      "Symmetric Difference:  {'Hello', 10, 40, 400}\n"
     ]
    }
   ],
   "source": [
    "d = {100,200,300,400}\n",
    "\n",
    "# Length of Set\n",
    "print('Length of Set:', len(d))\n",
    "\n",
    "# Add primitive element to Set\n",
    "d.add('Hello')\n",
    "print(d)\n",
    "\n",
    "# Can't add existing element  \n",
    "d.add(200)\n",
    "print('d: ',d)\n",
    "\n",
    "# Remove element\n",
    "d.remove(100)\n",
    "print('d: ',d)\n",
    "\n",
    "d1 = {10,200,300,40}\n",
    "print('d1: ',d1)\n",
    "\n",
    "# Intersection\n",
    "print('Intersection: ',d.intersection(d1))\n",
    "\n",
    "# Union\n",
    "print('Union: ',d.union(d1))\n",
    "\n",
    "# Difference (A-B)\n",
    "print('Difference: ',d.difference(d1))\n",
    "\n",
    "# Symmetric Difference (AUB - A^B)\n",
    "print('Symmetric Difference: ',d.symmetric_difference(d1))\n"
   ]
  },
  {
   "cell_type": "markdown",
   "metadata": {},
   "source": [
    "# Type conversion"
   ]
  },
  {
   "cell_type": "code",
   "execution_count": 202,
   "metadata": {},
   "outputs": [
    {
     "name": "stdout",
     "output_type": "stream",
     "text": [
      "tuple to list:  [10, 20, 30, 40]\n",
      "Dict to List:  ['j', 'i', 'l', 'k']\n",
      "Dict values to list:  [3, 4, 1, 2]\n",
      "Dict keys to list:  ['j', 'i', 'l', 'k']\n",
      "Set to list:  [200, 100, 400, 300]\n"
     ]
    }
   ],
   "source": [
    "# To List\n",
    "a = [1,2,3,4]\n",
    "b = (10,20,30,40)\n",
    "c = {'i':4,'j':3,'k':2,'l':1}\n",
    "d = {100,200,300,400}\n",
    "\n",
    "# tuple to list\n",
    "a1 = list(b)\n",
    "print('tuple to list: ',a1)\n",
    "\n",
    "# Dict to list\n",
    "print('Dict to List: ',list(c))  \n",
    "a2 = list(c.values())\n",
    "print('Dict values to list: ',a2)\n",
    "a3 = list(c.keys())\n",
    "print('Dict keys to list: ',a3)\n",
    "\n",
    "# Set to list\n",
    "a4 = list(d)\n",
    "print('Set to list: ',a4)\n",
    "\n"
   ]
  },
  {
   "cell_type": "code",
   "execution_count": 203,
   "metadata": {},
   "outputs": [
    {
     "name": "stdout",
     "output_type": "stream",
     "text": [
      "list to tuple:  (1, 2, 3, 4)\n",
      "Dict to tuple:  ('j', 'i', 'l', 'k')\n"
     ]
    }
   ],
   "source": [
    "# To tuple \n",
    "a = [1,2,3,4]\n",
    "b = (10,20,30,40)\n",
    "c = {'i':4,'j':3,'k':2,'l':1}\n",
    "d = {100,200,300,400}\n",
    "\n",
    "# list to tuple\n",
    "b1 = tuple(a)\n",
    "print('list to tuple: ',b1)\n",
    "\n",
    "# Dict to tuple\n",
    "b2 = tuple(c)\n",
    "print('Dict to tuple: ',b2)"
   ]
  },
  {
   "cell_type": "code",
   "execution_count": 68,
   "metadata": {},
   "outputs": [
    {
     "name": "stdout",
     "output_type": "stream",
     "text": [
      "List to Dict:  {0: 1, 1: 2, 2: 3, 3: 4}\n",
      "Tuple to Dict:  {0: 10, 1: 20, 2: 30, 3: 40}\n",
      "Set to Dict:  {0: 200, 1: 100, 2: 400, 3: 300}\n"
     ]
    }
   ],
   "source": [
    "# To Dict\n",
    "a = [1,2,3,4]\n",
    "b = (10,20,30,40)\n",
    "c = {'i':4,'j':3,'k':2,'l':1}\n",
    "d = {100,200,300,400}\n",
    "\n",
    "# List to Dict\n",
    "c1 = dict(enumerate(a))\n",
    "print('List to Dict: ', c1)\n",
    "\n",
    "# Tuple to Dict\n",
    "c2 = dict(enumerate(b))\n",
    "print('Tuple to Dict: ', c2)\n",
    "\n",
    "# Set to Dict\n",
    "c3 = dict(enumerate(d))\n",
    "print('Set to Dict: ', c3)\n"
   ]
  },
  {
   "cell_type": "code",
   "execution_count": 70,
   "metadata": {},
   "outputs": [
    {
     "name": "stdout",
     "output_type": "stream",
     "text": [
      "List to Set:  {1, 2, 3, 4}\n",
      "Dict to Set:  {40, 10, 20, 30}\n",
      "Dict to Set:  {'k', 'i', 'l', 'j'}\n"
     ]
    }
   ],
   "source": [
    "#  To Set\n",
    "a = [1,2,3,4]\n",
    "b = (10,20,30,40)\n",
    "c = {'i':4,'j':3,'k':2,'l':1}\n",
    "d = {100,200,300,400}\n",
    "\n",
    "# List to Set\n",
    "d1 = set(a)\n",
    "print('List to Set: ', d1)\n",
    "\n",
    "# Tuple to Set\n",
    "d2 = set(b)\n",
    "print('Dict to Set: ', d2)\n",
    "\n",
    "# Dict to Set\n",
    "d3 = set(c)\n",
    "print('Dict to Set: ', d3)\n",
    "\n"
   ]
  },
  {
   "cell_type": "code",
   "execution_count": 206,
   "metadata": {},
   "outputs": [
    {
     "name": "stdout",
     "output_type": "stream",
     "text": [
      "1 2\n",
      "3 4\n"
     ]
    }
   ],
   "source": [
    "a = [[1,2],[3,4]]\n",
    "\n",
    "b = [(1,2),(3,4)]\n",
    "\n",
    "# for i,j in a:\n",
    "#     print(i[0],i[1])\n",
    "    \n",
    "for i,j in a:\n",
    "    print(i,j)\n"
   ]
  },
  {
   "cell_type": "code",
   "execution_count": 207,
   "metadata": {},
   "outputs": [],
   "source": [
    "a = (1,2)"
   ]
  },
  {
   "cell_type": "code",
   "execution_count": 210,
   "metadata": {},
   "outputs": [
    {
     "data": {
      "text/plain": [
       "1"
      ]
     },
     "execution_count": 210,
     "metadata": {},
     "output_type": "execute_result"
    }
   ],
   "source": [
    "a.count(1)"
   ]
  },
  {
   "cell_type": "code",
   "execution_count": 214,
   "metadata": {},
   "outputs": [],
   "source": [
    "def foo(*arg):\n",
    "    return arg"
   ]
  },
  {
   "cell_type": "code",
   "execution_count": 216,
   "metadata": {},
   "outputs": [
    {
     "data": {
      "text/plain": [
       "((1, 2, 3, 4),)"
      ]
     },
     "execution_count": 216,
     "metadata": {},
     "output_type": "execute_result"
    }
   ],
   "source": [
    "foo((1,2,3,4))"
   ]
  },
  {
   "cell_type": "code",
   "execution_count": 218,
   "metadata": {},
   "outputs": [
    {
     "data": {
      "text/plain": [
       "(1, 2, 3, 4)"
      ]
     },
     "execution_count": 218,
     "metadata": {},
     "output_type": "execute_result"
    }
   ],
   "source": [
    "a = (1,2,3,4)\n"
   ]
  },
  {
   "cell_type": "code",
   "execution_count": 228,
   "metadata": {},
   "outputs": [
    {
     "ename": "SyntaxError",
     "evalue": "invalid syntax (<ipython-input-228-2303ff93976f>, line 4)",
     "output_type": "error",
     "traceback": [
      "\u001b[1;36m  File \u001b[1;32m\"<ipython-input-228-2303ff93976f>\"\u001b[1;36m, line \u001b[1;32m4\u001b[0m\n\u001b[1;33m    current = (book=\"chem\", page)\u001b[0m\n\u001b[1;37m                   ^\u001b[0m\n\u001b[1;31mSyntaxError\u001b[0m\u001b[1;31m:\u001b[0m invalid syntax\n"
     ]
    }
   ],
   "source": [
    "book = \"physics\"\n",
    "page = 100\n",
    "\n",
    "current = (book, page)\n",
    "print(current)\n"
   ]
  },
  {
   "cell_type": "code",
   "execution_count": 29,
   "metadata": {},
   "outputs": [
    {
     "name": "stdout",
     "output_type": "stream",
     "text": [
      "[100, 2, 'nj', 4]\n",
      "[100, 2, 'nj', 4]\n"
     ]
    }
   ],
   "source": [
    "a = [1,2,3,4]\n",
    "b = a\n",
    "b[0] = 100\n",
    "a[2] = 'nj'\n",
    "print(a)\n",
    "print(b)"
   ]
  },
  {
   "cell_type": "code",
   "execution_count": 33,
   "metadata": {},
   "outputs": [
    {
     "name": "stdout",
     "output_type": "stream",
     "text": [
      "[ 2  4  6  8 10 12 14 16]\n",
      "[70000000        4        6        8       10       12       14       16]\n",
      "[       0        1 70000000        3        4        5        6        7\n",
      "        8        9       10       11       12       13       14       15\n",
      "       16       17       18       19]\n"
     ]
    }
   ],
   "source": [
    "import numpy as np\n",
    "a = np.array(range(0,20))\n",
    "# b = np.copy(a)\n",
    "# b[0] = 100\n",
    "# a[2] = 200\n",
    "# print(a)\n",
    "# print(b)\n",
    "print(a[2:17:2])\n",
    "v = a[2:17:2]\n",
    "\n",
    "v[0] = 70000000\n",
    "print(v)\n",
    "print(a)"
   ]
  },
  {
   "cell_type": "code",
   "execution_count": 48,
   "metadata": {},
   "outputs": [
    {
     "name": "stdout",
     "output_type": "stream",
     "text": [
      "1\n"
     ]
    }
   ],
   "source": [
    "a = 1\n",
    "print(a)"
   ]
  },
  {
   "cell_type": "code",
   "execution_count": null,
   "metadata": {},
   "outputs": [],
   "source": []
  }
 ],
 "metadata": {
  "kernelspec": {
   "display_name": "Python 3",
   "language": "python",
   "name": "python3"
  },
  "language_info": {
   "codemirror_mode": {
    "name": "ipython",
    "version": 3
   },
   "file_extension": ".py",
   "mimetype": "text/x-python",
   "name": "python",
   "nbconvert_exporter": "python",
   "pygments_lexer": "ipython3",
   "version": "3.5.6"
  }
 },
 "nbformat": 4,
 "nbformat_minor": 2
}
