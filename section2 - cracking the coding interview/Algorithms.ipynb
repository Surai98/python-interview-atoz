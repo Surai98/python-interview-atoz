{
 "cells": [
  {
   "cell_type": "markdown",
   "metadata": {},
   "source": [
    "# Gear-up Coding! \n",
    "\n",
    "The gear-up series is classified into two parts, \n",
    "\n",
    "1. Data Structures \n",
    "2. Algorithms \n",
    "\n",
    "\n",
    "\n",
    "## Data Structures\n",
    "\n",
    "\n",
    "\n",
    "\n",
    "\n",
    "## Algorithms\n",
    "\n",
    "### Greedy Technique \n",
    "\n",
    "**Huffman Coding**\n",
    "\n",
    "- lossless data compression algorithm \n",
    "- we assign **variable-length codes** to input characters\n",
    "  - length of **codes** depend on the frequency of characters. \n",
    "  - **codes** assigned to input characters are **prefix codes** \n",
    "\n",
    "| **{0, 11}**    | **Prefix code**     |\n",
    "| -------------- | ------------------- |\n",
    "| **{0, 1, 11}** | **Non-Prefix code** |\n",
    "\n",
    "Suppose given the following data information - \n",
    "\n",
    "| Characters | Frequency |\n",
    "| ---------- | --------- |\n",
    "| a          | 5         |\n",
    "| b          | 9         |\n",
    "| c          | 12        |\n",
    "| d          | 13        |\n",
    "| e          | 16        |\n",
    "| f          | 45        |\n",
    "\n",
    "**Algorithm** - Huffman Tree\n",
    "\n",
    "- Create a leaf node for each unique character and build a min heap of all leaf nodes. \n",
    "- Extract two nodes with the minimum frequency from the min heap \n",
    "- Create a new internal node with frequency equal to the sum of the two node frequencies. Make the first extracted node as its left child and the other extracted node as its right child. Add this node to the main heap. \n",
    "- Repeat steps#2 and #3 until the heap contains only one node. The remaining node is the root node and the tree is complete. \n",
    "\n",
    "\n",
    "\n",
    "\n",
    "\n"
   ]
  },
  {
   "cell_type": "code",
   "execution_count": null,
   "metadata": {},
   "outputs": [],
   "source": []
  },
  {
   "cell_type": "markdown",
   "metadata": {},
   "source": [
    "## Linked lists"
   ]
  },
  {
   "cell_type": "code",
   "execution_count": 12,
   "metadata": {},
   "outputs": [],
   "source": [
    "class LinkedList():\n",
    "    class Node():\n",
    "        def __init__(self, value):\n",
    "            self.value = value\n",
    "            self.next = None\n",
    "        \n",
    "    \n",
    "    def __init__(self):\n",
    "        self.head = None\n",
    "\n",
    "        \n",
    "        \n",
    "    def last_but_nth(self, n):\n",
    "        start = self.head\n",
    "        end = self.head\n",
    "        \n",
    "        for i in range(n):\n",
    "            print(start.value)\n",
    "            start = start.next\n",
    "        \n",
    "    \n",
    "    def add(self, num):\n",
    "        node = LinkedList.Node(num)\n",
    "        \n",
    "        if self.head == None:\n",
    "            self.head = node\n",
    "            node.next = None\n",
    "            \n",
    "        else:\n",
    "            temp = self.head\n",
    "            while(temp.next):\n",
    "                temp = temp.next\n",
    "            \n",
    "            temp.next = node\n",
    "            node.next = None\n",
    "\n",
    "    \n",
    "    def remove(self, num):\n",
    "        temp = self.head\n",
    "        \n",
    "        while(temp != None):\n",
    "            if(temp.next.value == num):\n",
    "                temp2 = temp.next\n",
    "                temp.next = temp.next.next\n",
    "                \n",
    "                del temp2\n",
    "                return \n",
    "                \n",
    "            temp = temp.next\n",
    "            \n",
    "    def reverse(self):\n",
    "        current = self.head\n",
    "        previous = None\n",
    "        nextnode = None\n",
    "        \n",
    "        while current :\n",
    "            nextnode = current.next\n",
    "            current.next = previous\n",
    "            previous = current \n",
    "            \n",
    "            current = nextnode\n",
    "            print(previous.value)\n",
    "        \n",
    "        self.head = previous\n",
    "        \n",
    "    \n",
    "    def __str__(self):\n",
    "        ll_list = []\n",
    "        temp = self.head\n",
    "        while(temp):\n",
    "            ll_list.append(temp.value)\n",
    "            temp = temp.next\n",
    "        \n",
    "        return str(ll_list)\n",
    "    "
   ]
  },
  {
   "cell_type": "code",
   "execution_count": 13,
   "metadata": {},
   "outputs": [],
   "source": [
    "LL = LinkedList()"
   ]
  },
  {
   "cell_type": "code",
   "execution_count": 14,
   "metadata": {},
   "outputs": [
    {
     "name": "stdout",
     "output_type": "stream",
     "text": [
      "[1, 2, 3, 5]\n"
     ]
    }
   ],
   "source": [
    "LL.add(1)\n",
    "LL.add(2)\n",
    "LL.add(3)\n",
    "LL.add(5)\n",
    "print(LL)"
   ]
  },
  {
   "cell_type": "code",
   "execution_count": 64,
   "metadata": {},
   "outputs": [
    {
     "name": "stdout",
     "output_type": "stream",
     "text": [
      "1\n",
      "2\n"
     ]
    }
   ],
   "source": [
    "LL.last_but_nth(2)"
   ]
  },
  {
   "cell_type": "markdown",
   "metadata": {},
   "source": [
    "## Recursion"
   ]
  },
  {
   "cell_type": "code",
   "execution_count": 16,
   "metadata": {},
   "outputs": [],
   "source": [
    "string = \"Hello World\""
   ]
  },
  {
   "cell_type": "code",
   "execution_count": 24,
   "metadata": {},
   "outputs": [],
   "source": [
    "#print(string[::-1])"
   ]
  },
  {
   "cell_type": "code",
   "execution_count": 60,
   "metadata": {},
   "outputs": [],
   "source": [
    "def reverseString(string, stringOutput=\"\"):\n",
    "    stringLenght = len(string)\n",
    "    #print(stringOutput, stringLenght)\n",
    "    \n",
    "    if stringLenght <= 1:\n",
    "        return stringOutput + string[-1]\n",
    "    \n",
    "    stringOutput = stringOutput + string[-1]\n",
    "    string = string[:(stringLenght-1)]\n",
    "    \n",
    "    return reverseString(string, stringOutput)\n",
    "   \n"
   ]
  },
  {
   "cell_type": "code",
   "execution_count": 62,
   "metadata": {},
   "outputs": [],
   "source": [
    "def rev(string):\n",
    "    \n",
    "    stringLenght = len(string)\n",
    "    \n",
    "    if stringLenght <= 1:\n",
    "        return string\n",
    "    \n",
    "    return string[-1] + rev(string[:(stringLenght-1)])\n",
    "    \n",
    "    "
   ]
  },
  {
   "cell_type": "code",
   "execution_count": 63,
   "metadata": {},
   "outputs": [
    {
     "data": {
      "text/plain": [
       "'olleH'"
      ]
     },
     "execution_count": 63,
     "metadata": {},
     "output_type": "execute_result"
    }
   ],
   "source": [
    "rev(\"Hello\")"
   ]
  },
  {
   "cell_type": "code",
   "execution_count": 59,
   "metadata": {},
   "outputs": [
    {
     "data": {
      "text/plain": [
       "('Hell', 'o')"
      ]
     },
     "execution_count": 59,
     "metadata": {},
     "output_type": "execute_result"
    }
   ],
   "source": [
    "reverseString(\"Hello\")"
   ]
  },
  {
   "cell_type": "code",
   "execution_count": 31,
   "metadata": {},
   "outputs": [],
   "source": [
    "def factorial(n):\n",
    "    if n == 0: \n",
    "        return 1\n",
    "    \n",
    "    return n * factorial(n-1)"
   ]
  },
  {
   "cell_type": "code",
   "execution_count": 33,
   "metadata": {},
   "outputs": [
    {
     "data": {
      "text/plain": [
       "24"
      ]
     },
     "execution_count": 33,
     "metadata": {},
     "output_type": "execute_result"
    }
   ],
   "source": [
    "factorial(4)"
   ]
  },
  {
   "cell_type": "code",
   "execution_count": 109,
   "metadata": {},
   "outputs": [],
   "source": [
    "a = \"abc\"\n",
    "l = []"
   ]
  },
  {
   "cell_type": "code",
   "execution_count": 8,
   "metadata": {},
   "outputs": [],
   "source": [
    "def permut(string):\n",
    "    stringLength = len(string)\n",
    "    \n",
    "    if stringLength <= 1:\n",
    "        returnList = []\n",
    "        returnList.append(string)\n",
    "        return returnList\n",
    "    \n",
    "    firstChar = string[0]\n",
    "    rString = string[1:]\n",
    "    \n",
    "    #print(string, stringLength, firstChar, rString)\n",
    "    \n",
    "    List = permut(rString)\n",
    "    \n",
    "    returnList = []\n",
    "    for s in List:\n",
    "        for i in range(len(s)+1):\n",
    "            temp = list(s)\n",
    "            temp.insert(i, firstChar)\n",
    "            returnList.append(\"\".join(temp))\n",
    "    \n",
    "    return returnList\n",
    "    \n",
    "    "
   ]
  },
  {
   "cell_type": "code",
   "execution_count": 9,
   "metadata": {},
   "outputs": [
    {
     "data": {
      "text/plain": [
       "['abcd',\n",
       " 'bacd',\n",
       " 'bcad',\n",
       " 'bcda',\n",
       " 'acbd',\n",
       " 'cabd',\n",
       " 'cbad',\n",
       " 'cbda',\n",
       " 'acdb',\n",
       " 'cadb',\n",
       " 'cdab',\n",
       " 'cdba',\n",
       " 'abdc',\n",
       " 'badc',\n",
       " 'bdac',\n",
       " 'bdca',\n",
       " 'adbc',\n",
       " 'dabc',\n",
       " 'dbac',\n",
       " 'dbca',\n",
       " 'adcb',\n",
       " 'dacb',\n",
       " 'dcab',\n",
       " 'dcba']"
      ]
     },
     "execution_count": 9,
     "metadata": {},
     "output_type": "execute_result"
    }
   ],
   "source": [
    "permut(\"abcd\")"
   ]
  },
  {
   "cell_type": "code",
   "execution_count": 108,
   "metadata": {},
   "outputs": [
    {
     "data": {
      "text/plain": [
       "['dabc', 'adbc', 'abdc', 'abcd']"
      ]
     },
     "execution_count": 108,
     "metadata": {},
     "output_type": "execute_result"
    }
   ],
   "source": [
    "for i in range(len(a)+1):\n",
    "    b = list(a)\n",
    "    b.insert(i, 'd')\n",
    "    l.append(\"\".join(b))\n",
    "\n",
    "l"
   ]
  },
  {
   "cell_type": "code",
   "execution_count": 10,
   "metadata": {},
   "outputs": [
    {
     "name": "stdout",
     "output_type": "stream",
     "text": [
      "abc\n",
      "['a', 'b', 'c']\n"
     ]
    },
    {
     "data": {
      "text/plain": [
       "\"['a', 'b', 'c']\""
      ]
     },
     "execution_count": 10,
     "metadata": {},
     "output_type": "execute_result"
    }
   ],
   "source": [
    "a = 'abc'\n",
    "print(a)\n",
    "b = list(a)\n",
    "print(b)\n",
    "c = str(b)\n",
    "c"
   ]
  },
  {
   "cell_type": "code",
   "execution_count": 1,
   "metadata": {},
   "outputs": [],
   "source": [
    "def feb(n):\n",
    "    if n<=2:\n",
    "        return 1\n",
    "    \n",
    "    return feb(n-1) + feb(n-2)"
   ]
  },
  {
   "cell_type": "code",
   "execution_count": 2,
   "metadata": {},
   "outputs": [],
   "source": [
    "febo = {}"
   ]
  },
  {
   "cell_type": "code",
   "execution_count": 3,
   "metadata": {},
   "outputs": [],
   "source": [
    "def febDyne(n):\n",
    "    if n<=2:\n",
    "        return 1\n",
    "    \n",
    "    if n in febo:\n",
    "        return febo[n]\n",
    "    else:\n",
    "        febo[n] = febDyne(n-1) + febDyne(n-2)\n",
    "        return febo[n]"
   ]
  },
  {
   "cell_type": "code",
   "execution_count": null,
   "metadata": {},
   "outputs": [],
   "source": [
    "%timeit feb(10)"
   ]
  },
  {
   "cell_type": "code",
   "execution_count": 159,
   "metadata": {},
   "outputs": [
    {
     "name": "stdout",
     "output_type": "stream",
     "text": [
      "148 ns ± 8.37 ns per loop (mean ± std. dev. of 7 runs, 10000000 loops each)\n"
     ]
    }
   ],
   "source": [
    "%timeit febDyne(10)"
   ]
  },
  {
   "cell_type": "code",
   "execution_count": 5,
   "metadata": {},
   "outputs": [
    {
     "name": "stdout",
     "output_type": "stream",
     "text": [
      "3\n"
     ]
    }
   ],
   "source": [
    "a = {1:2, 2:3}\n",
    "if 2 in a:\n",
    "    print(a[2])"
   ]
  },
  {
   "cell_type": "code",
   "execution_count": 1,
   "metadata": {},
   "outputs": [],
   "source": [
    "def rec_coin(target,coins):\n",
    "    '''\n",
    "    INPUT: Target change amount and list of coin values\n",
    "    OUTPUT: Minimum coins needed to make change\n",
    "    \n",
    "    Note, this solution is not optimized.\n",
    "    '''\n",
    "    \n",
    "    # Default to target value\n",
    "    min_coins = target\n",
    "    \n",
    "    # Check to see if we have a single coin match (BASE CASE)\n",
    "    if target in coins:\n",
    "        return 1\n",
    "    \n",
    "    else:\n",
    "        \n",
    "        # for every coin value that is <= than target\n",
    "        for i in [c for c in coins if c <= target]:\n",
    "            \n",
    "            # Recursive Call (add a count coin and subtract from the target) \n",
    "            num_coins = 1 + rec_coin(target-i,coins)\n",
    "            \n",
    "            # Reset Minimum if we have a new minimum\n",
    "            if num_coins < min_coins:\n",
    "                \n",
    "                min_coins = num_coins\n",
    "                \n",
    "    return min_coins"
   ]
  },
  {
   "cell_type": "code",
   "execution_count": 3,
   "metadata": {},
   "outputs": [
    {
     "data": {
      "text/plain": [
       "3"
      ]
     },
     "execution_count": 3,
     "metadata": {},
     "output_type": "execute_result"
    }
   ],
   "source": [
    "rec_coin(12, [1,5,10])"
   ]
  },
  {
   "cell_type": "markdown",
   "metadata": {},
   "source": [
    "## Trees"
   ]
  },
  {
   "cell_type": "code",
   "execution_count": 22,
   "metadata": {},
   "outputs": [],
   "source": [
    "class binaryTree():\n",
    "    def __init__(self, value):\n",
    "        self.value = value\n",
    "        self.rightNode = None\n",
    "        self.leftNode = None\n",
    "        \n",
    "    def insertLeft(self, value):\n",
    "        node = binaryTree(value)\n",
    "        if self.leftNode : \n",
    "            temp = self.leftNode\n",
    "            self.leftNode = node \n",
    "            node.leftNode = temp \n",
    "        \n",
    "        else:\n",
    "            self.leftNode = node \n",
    "            \n",
    "    def insertRight(self, value):\n",
    "        node = binaryTree(value)\n",
    "        if self.rightNode : \n",
    "            temp = self.rightNode\n",
    "            self.rightNode = node \n",
    "            node.rightNode = temp \n",
    "        \n",
    "        else:\n",
    "            self.rightNode = node \n",
    "        \n",
    "    \n",
    "    def getValue(self):\n",
    "        return self.value\n",
    "    "
   ]
  },
  {
   "cell_type": "code",
   "execution_count": 26,
   "metadata": {},
   "outputs": [],
   "source": [
    "def preorderTraversal(tree):\n",
    "    if not tree:\n",
    "        return\n",
    "    \n",
    "    print(tree.getValue())\n",
    "    preorderTraversal(tree.leftNode)\n",
    "    preorderTraversal(tree.rightNode)\n",
    "        "
   ]
  },
  {
   "cell_type": "code",
   "execution_count": 29,
   "metadata": {},
   "outputs": [],
   "source": [
    "def inorderTraversal(tree):\n",
    "    if not tree:\n",
    "        return\n",
    "    \n",
    "    inorderTraversal(tree.leftNode)\n",
    "    print(tree.getValue())\n",
    "    inorderTraversal(tree.rightNode)"
   ]
  },
  {
   "cell_type": "code",
   "execution_count": 30,
   "metadata": {},
   "outputs": [],
   "source": [
    "def postorderTraversal(tree):\n",
    "    if not tree:\n",
    "        return\n",
    "    \n",
    "    postorderTraversal(tree.leftNode)\n",
    "    postorderTraversal(tree.rightNode)\n",
    "    print(tree.getValue())"
   ]
  },
  {
   "cell_type": "code",
   "execution_count": 36,
   "metadata": {},
   "outputs": [],
   "source": [
    "b = binaryTree(1)\n",
    "b.leftNode = binaryTree(2)\n",
    "b.rightNode = binaryTree(3)\n",
    "b.leftNode.leftNode = binaryTree(4)\n",
    "b.leftNode.rightNode = binaryTree(5)\n",
    "b.rightNode.leftNode = binaryTree(6)\n",
    "b.leftNode.leftNode.leftNode = binaryTree(7)\n",
    "b.rightNode.leftNode.leftNode = binaryTree(8)"
   ]
  },
  {
   "cell_type": "code",
   "execution_count": 37,
   "metadata": {},
   "outputs": [
    {
     "name": "stdout",
     "output_type": "stream",
     "text": [
      "1\n",
      "2\n",
      "4\n",
      "7\n",
      "5\n",
      "3\n",
      "6\n",
      "8\n"
     ]
    }
   ],
   "source": [
    "preorderTraversal(b)"
   ]
  },
  {
   "cell_type": "code",
   "execution_count": 38,
   "metadata": {},
   "outputs": [
    {
     "name": "stdout",
     "output_type": "stream",
     "text": [
      "7\n",
      "4\n",
      "2\n",
      "5\n",
      "1\n",
      "8\n",
      "6\n",
      "3\n"
     ]
    }
   ],
   "source": [
    "inorderTraversal(b)"
   ]
  },
  {
   "cell_type": "code",
   "execution_count": 39,
   "metadata": {},
   "outputs": [
    {
     "name": "stdout",
     "output_type": "stream",
     "text": [
      "7\n",
      "4\n",
      "5\n",
      "2\n",
      "8\n",
      "6\n",
      "3\n",
      "1\n"
     ]
    }
   ],
   "source": [
    "postorderTraversal(b)"
   ]
  },
  {
   "cell_type": "code",
   "execution_count": 143,
   "metadata": {},
   "outputs": [],
   "source": [
    "class minHeap():\n",
    "    def __init__(self, inputList=[]):\n",
    "        self.heapSize = 0\n",
    "        self.heap = [0]\n",
    "        \n",
    "        for i in inputList:\n",
    "            self.add(i)\n",
    "    \n",
    "    \n",
    "    def _getminChild(self, nodeId):\n",
    "        leftNodeIndex = 2*nodeId\n",
    "        rightNodeIndex = 2*nodeId + 1\n",
    "\n",
    "\n",
    "        if leftNodeIndex <= self.heapSize and rightNodeIndex <= self.heapSize :  \n",
    "\n",
    "            leftChild = self.heap[leftNodeIndex]\n",
    "            rightChild = self.heap[rightNodeIndex]\n",
    "\n",
    "            if leftChild < rightChild : \n",
    "                return leftNodeIndex\n",
    "            else:\n",
    "                return rightNodeIndex\n",
    "\n",
    "        elif rightNodeIndex > self.heapSize : \n",
    "            return leftNodeIndex\n",
    "        \n",
    "        else : \n",
    "            return nodeId\n",
    "        \n",
    "    \n",
    "    def _reorderHeapUp(self, nodeId):\n",
    "        while(int(nodeId/2)):\n",
    "            if self.heap[nodeId] < self.heap[int(nodeId/2)]:\n",
    "                self.heap[nodeId], self.heap[int(nodeId/2)] = self.heap[int(nodeId/2)], self.heap[nodeId]\n",
    "                \n",
    "            nodeId = int(nodeId / 2)\n",
    "    \n",
    "    def _reorderHeapDown(self, nodeId):\n",
    "        while(nodeId*2 <= self.heapSize):\n",
    "            minChildIndex = self._getminChild(nodeId)\n",
    "            #print(nodeId, \" value=\", self.heap[nodeId], minChildIndex, \" value=\", self.heap[minChildIndex])\n",
    "            \n",
    "            if self.heap[nodeId] > self.heap[minChildIndex]:\n",
    "                self.heap[nodeId], self.heap[minChildIndex] = self.heap[minChildIndex], self.heap[nodeId]\n",
    "            \n",
    "            nodeId = minChildIndex\n",
    "        \n",
    "    \n",
    "    def add(self, value):\n",
    "        self.heap.append(value)\n",
    "        self.heapSize = self.heapSize + 1\n",
    "        self._reorderHeapUp(self.heapSize)\n",
    "    \n",
    "    def removeMin(self):\n",
    "        heapMin = self.heap[1]\n",
    "        \n",
    "        self.heap[1] = self.heap[self.heapSize]\n",
    "        self.heap.pop(self.heapSize)\n",
    "        self.heapSize = self.heapSize - 1\n",
    "        \n",
    "        self._reorderHeapDown(1)\n",
    "        \n",
    "        return heapMin\n",
    "        \n",
    "    def isEmpty(self):\n",
    "        return self.heapSize < 1\n",
    "    \n",
    "    def __str__(self):\n",
    "        return str(self.heap[1:])"
   ]
  },
  {
   "cell_type": "code",
   "execution_count": 144,
   "metadata": {},
   "outputs": [],
   "source": [
    "h = minHeap([1,2,3,4,5,6,7,8])"
   ]
  },
  {
   "cell_type": "code",
   "execution_count": 145,
   "metadata": {},
   "outputs": [
    {
     "name": "stdout",
     "output_type": "stream",
     "text": [
      "[1, 2, 3, 4, 5, 6, 7, 8]\n"
     ]
    }
   ],
   "source": [
    "print(h)"
   ]
  },
  {
   "cell_type": "code",
   "execution_count": 146,
   "metadata": {},
   "outputs": [
    {
     "name": "stdout",
     "output_type": "stream",
     "text": [
      "[2, 4, 3, 8, 5, 6, 7] False\n"
     ]
    }
   ],
   "source": [
    "h.removeMin()\n",
    "print(h, h.isEmpty())"
   ]
  },
  {
   "cell_type": "code",
   "execution_count": 147,
   "metadata": {},
   "outputs": [],
   "source": [
    "def heapSort(inputList):\n",
    "    outputList = []\n",
    "    h = minHeap(inputList)\n",
    "    \n",
    "    while(not h.isEmpty()):\n",
    "        outputList.append(h.removeMin())\n",
    "    \n",
    "    return outputList"
   ]
  },
  {
   "cell_type": "code",
   "execution_count": 158,
   "metadata": {},
   "outputs": [
    {
     "data": {
      "text/plain": [
       "[-94,\n",
       " -82,\n",
       " -75,\n",
       " -61,\n",
       " -60,\n",
       " -60,\n",
       " -57,\n",
       " -39,\n",
       " -37,\n",
       " -17,\n",
       " -12,\n",
       " -5,\n",
       " 33,\n",
       " 57,\n",
       " 57,\n",
       " 57,\n",
       " 64,\n",
       " 71,\n",
       " 79,\n",
       " 80]"
      ]
     },
     "execution_count": 158,
     "metadata": {},
     "output_type": "execute_result"
    }
   ],
   "source": [
    "heapSort(np.random.randint(-100, 100, size=20).tolist())"
   ]
  },
  {
   "cell_type": "code",
   "execution_count": 150,
   "metadata": {},
   "outputs": [],
   "source": [
    "import numpy as np"
   ]
  },
  {
   "cell_type": "code",
   "execution_count": 156,
   "metadata": {},
   "outputs": [
    {
     "data": {
      "text/plain": [
       "[49,\n",
       " 73,\n",
       " -10,\n",
       " 47,\n",
       " 28,\n",
       " 99,\n",
       " -5,\n",
       " -72,\n",
       " 78,\n",
       " 17,\n",
       " 74,\n",
       " 81,\n",
       " -62,\n",
       " 78,\n",
       " 14,\n",
       " 57,\n",
       " -44,\n",
       " -52,\n",
       " -90,\n",
       " 22,\n",
       " 67,\n",
       " -20,\n",
       " -97,\n",
       " 25,\n",
       " 64,\n",
       " -55,\n",
       " -85,\n",
       " 6,\n",
       " 97,\n",
       " 26,\n",
       " -51,\n",
       " 69,\n",
       " -48,\n",
       " -50,\n",
       " 9,\n",
       " -69,\n",
       " 61,\n",
       " -58,\n",
       " -59,\n",
       " -52,\n",
       " -3,\n",
       " 49,\n",
       " 60,\n",
       " -9,\n",
       " 12,\n",
       " 89,\n",
       " -60,\n",
       " 65,\n",
       " 34,\n",
       " 6]"
      ]
     },
     "execution_count": 156,
     "metadata": {},
     "output_type": "execute_result"
    }
   ],
   "source": [
    "np.random.randint(-100, 100, size=50).tolist()\n"
   ]
  },
  {
   "cell_type": "markdown",
   "metadata": {},
   "source": [
    "# BST"
   ]
  },
  {
   "cell_type": "code",
   "execution_count": 1,
   "metadata": {},
   "outputs": [],
   "source": [
    "class treenode():\n",
    "    def __init__(self, key, value, left=None, right=None, parent=None):\n",
    "        self.key = key\n",
    "        self.value = value\n",
    "        self.left = left\n",
    "        self.right = right\n",
    "        self.parent = parent \n",
    "        \n",
    "        \n",
    "    def isRoot(self):\n",
    "        return not self.parent \n",
    "    \n",
    "    def isLeftChild(self):\n",
    "        return (self.parent.left == self)\n",
    "    \n",
    "    def isRightChild(self):\n",
    "        return (self.parent.right == self)\n",
    "    \n",
    "    def isLeaf(self):\n",
    "        return ((not self.left) and (not self.right))\n",
    "    \n",
    "    def replaceNode(self, key, value, lc, rc):\n",
    "        self.value = value\n",
    "        self.key = key\n",
    "        \n",
    "        self.left = lc\n",
    "        self.right = rc\n",
    "        \n",
    "        \n",
    "    def hasAnyChildern(self):\n",
    "        return ((self.left) or (self.right))\n",
    "    \n",
    "    def hasBothChildren(self):\n",
    "        return ((self.left) and (self.right))\n",
    "    \n",
    "    \n",
    "    "
   ]
  },
  {
   "cell_type": "code",
   "execution_count": 2,
   "metadata": {},
   "outputs": [],
   "source": [
    "class BinarySearchTree():\n",
    "    def __init__(self):\n",
    "        pass"
   ]
  },
  {
   "cell_type": "code",
   "execution_count": null,
   "metadata": {},
   "outputs": [],
   "source": []
  },
  {
   "cell_type": "code",
   "execution_count": null,
   "metadata": {},
   "outputs": [],
   "source": []
  },
  {
   "cell_type": "code",
   "execution_count": null,
   "metadata": {},
   "outputs": [],
   "source": []
  },
  {
   "cell_type": "code",
   "execution_count": null,
   "metadata": {},
   "outputs": [],
   "source": []
  },
  {
   "cell_type": "code",
   "execution_count": 17,
   "metadata": {},
   "outputs": [],
   "source": [
    "class cls():\n",
    "    def __str__(self):\n",
    "        return \"Aruna\"\n",
    "    \n",
    "    def __contains__(self, name):\n",
    "        if name == \"Aruna\":\n",
    "            return True\n",
    "        else:\n",
    "            return False"
   ]
  },
  {
   "cell_type": "code",
   "execution_count": 18,
   "metadata": {},
   "outputs": [],
   "source": [
    "obj = cls()"
   ]
  },
  {
   "cell_type": "code",
   "execution_count": 19,
   "metadata": {},
   "outputs": [
    {
     "name": "stdout",
     "output_type": "stream",
     "text": [
      "Aruna\n"
     ]
    }
   ],
   "source": [
    "print(obj)"
   ]
  },
  {
   "cell_type": "code",
   "execution_count": 21,
   "metadata": {},
   "outputs": [
    {
     "data": {
      "text/plain": [
       "True"
      ]
     },
     "execution_count": 21,
     "metadata": {},
     "output_type": "execute_result"
    }
   ],
   "source": [
    "\"Aruna\" in obj"
   ]
  },
  {
   "cell_type": "code",
   "execution_count": null,
   "metadata": {},
   "outputs": [],
   "source": []
  },
  {
   "cell_type": "code",
   "execution_count": 39,
   "metadata": {},
   "outputs": [],
   "source": [
    "class office():\n",
    "    def __init__(self):\n",
    "        self.emp1 = \"Aruna\"\n",
    "        self.emp2 = \"Anusha\"\n",
    "        self.emp3 = \"Anuradha\"\n",
    "        self.emp4 = \"sastri\"\n",
    "        \n",
    "    def __iter__(self):\n",
    "        yield self.emp1\n",
    "        yield self.emp2\n",
    "        yield self.emp3\n",
    "        yield self.emp4\n",
    "        \n",
    "    def __getitem__(self, index):\n",
    "        tempList = []\n",
    "        for i in self:\n",
    "            tempList.append(i)\n",
    "    \n",
    "        return tempList[index]\n",
    "    \n",
    "    def __setitem__(self, index, value):\n",
    "        if index == 0:\n",
    "            self.emp1 = value\n",
    "            \n",
    "        elif index == 1:\n",
    "            self.emp2 = value\n",
    "            \n",
    "        elif index == 2:\n",
    "            self.emp3 = value\n",
    "            \n",
    "        elif index == 3:\n",
    "            self.emp4 = value"
   ]
  },
  {
   "cell_type": "code",
   "execution_count": 40,
   "metadata": {},
   "outputs": [],
   "source": [
    "narayana = office()\n",
    "    "
   ]
  },
  {
   "cell_type": "code",
   "execution_count": 41,
   "metadata": {},
   "outputs": [],
   "source": [
    "narayana[0] = \"Phani\""
   ]
  },
  {
   "cell_type": "code",
   "execution_count": 42,
   "metadata": {},
   "outputs": [
    {
     "data": {
      "text/plain": [
       "'Phani'"
      ]
     },
     "execution_count": 42,
     "metadata": {},
     "output_type": "execute_result"
    }
   ],
   "source": [
    "narayana[0]"
   ]
  },
  {
   "cell_type": "code",
   "execution_count": 43,
   "metadata": {},
   "outputs": [
    {
     "name": "stdout",
     "output_type": "stream",
     "text": [
      "Phani\n",
      "Anusha\n",
      "Anuradha\n",
      "sastri\n"
     ]
    }
   ],
   "source": [
    "for i in narayana:\n",
    "    print(i)"
   ]
  },
  {
   "cell_type": "code",
   "execution_count": 63,
   "metadata": {},
   "outputs": [],
   "source": [
    "class myclass():\n",
    "    def __init__(self, value=0):\n",
    "        self.value = value\n",
    "\n",
    "    def __add__(self, obj):\n",
    "        newObj = myclass()\n",
    "        newObj.value = self.value + obj.value\n",
    "        return newObj\n",
    "    "
   ]
  },
  {
   "cell_type": "code",
   "execution_count": 80,
   "metadata": {},
   "outputs": [],
   "source": [
    "class complx():\n",
    "    def __init__(self, i=0, j=0):\n",
    "        self.i = i\n",
    "        self.j = j\n",
    "        \n",
    "    def __str__(self):\n",
    "        return str(self.i) + \"+\" + str(self.j) + \"j\"\n",
    "    \n",
    "    def __add__(self, obj):\n",
    "        newObj = complx()\n",
    "        newObj.i = self.i + obj.i\n",
    "        newObj.j = self.j + obj.j\n",
    "        \n",
    "        return newObj\n",
    "    \n",
    "    def __mul__(self, obj):\n",
    "        newObj = complx()\n",
    "        newObj.i = (self.i * obj.i) - (self.j * obj.j)\n",
    "        newObj.j = (self.i * obj.j) + (self.j * obj.i)\n",
    "        \n",
    "        return newObj"
   ]
  },
  {
   "cell_type": "code",
   "execution_count": 81,
   "metadata": {},
   "outputs": [],
   "source": [
    "a = complx(1,2)\n",
    "b = complx(3,4)"
   ]
  },
  {
   "cell_type": "code",
   "execution_count": 82,
   "metadata": {},
   "outputs": [
    {
     "name": "stdout",
     "output_type": "stream",
     "text": [
      "4+6j\n"
     ]
    }
   ],
   "source": [
    "c = a + b\n",
    "print(c)"
   ]
  },
  {
   "cell_type": "code",
   "execution_count": 83,
   "metadata": {},
   "outputs": [
    {
     "name": "stdout",
     "output_type": "stream",
     "text": [
      "-5+10j\n"
     ]
    }
   ],
   "source": [
    "d = a*b\n",
    "print(d)"
   ]
  },
  {
   "cell_type": "code",
   "execution_count": null,
   "metadata": {},
   "outputs": [],
   "source": []
  }
 ],
 "metadata": {
  "kernelspec": {
   "display_name": "Python 3",
   "language": "python",
   "name": "python3"
  },
  "language_info": {
   "codemirror_mode": {
    "name": "ipython",
    "version": 3
   },
   "file_extension": ".py",
   "mimetype": "text/x-python",
   "name": "python",
   "nbconvert_exporter": "python",
   "pygments_lexer": "ipython3",
   "version": "3.5.6"
  }
 },
 "nbformat": 4,
 "nbformat_minor": 2
}
