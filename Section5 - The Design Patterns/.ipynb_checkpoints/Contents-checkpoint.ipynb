{
 "cells": [
  {
   "cell_type": "markdown",
   "metadata": {},
   "source": [
    "## 5 : The Design Patterns \n",
    "\n",
    "\n",
    "__1. Understanding Design Patterns__ <br>\n",
    "__2. Creational Patterns__\n",
    "    - Factory, Abstract Factory \n",
    "    - Singleton \n",
    "    - Builder \n",
    "    - Prototype \n",
    "\n",
    "__3. Structural Patterns__ \n",
    "    - Decorator \n",
    "    - Proxy \n",
    "    - Adapter \n",
    "    - Composite \n",
    "    - Bridge \n",
    "\n",
    "__4. Behavioral Patterns__\n",
    "    - Observer \n",
    "    - Visitor \n",
    "    - Iterator \n",
    "    - Strategy \n",
    "    - Chain of responisibility \n",
    "\n",
    "    \n",
    "   "
   ]
  },
  {
   "cell_type": "markdown",
   "metadata": {},
   "source": []
  }
 ],
 "metadata": {
  "kernelspec": {
   "display_name": "Python 3",
   "language": "python",
   "name": "python3"
  },
  "language_info": {
   "codemirror_mode": {
    "name": "ipython",
    "version": 3
   },
   "file_extension": ".py",
   "mimetype": "text/x-python",
   "name": "python",
   "nbconvert_exporter": "python",
   "pygments_lexer": "ipython3",
   "version": "3.5.6"
  }
 },
 "nbformat": 4,
 "nbformat_minor": 2
}
