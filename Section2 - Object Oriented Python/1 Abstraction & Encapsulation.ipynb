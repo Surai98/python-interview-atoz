{
 "cells": [
  {
   "cell_type": "markdown",
   "metadata": {},
   "source": [
    "## Table of Contents\n",
    "---\n",
    "__OOPS INTRODUCTION__\n",
    "- [Class](#)\n",
    "- [Object](#)\n",
    "- [Methods](#)\n",
    "- [Attributes](#)\n",
    "- [init](#)\n",
    "\n",
    "__ENCAPSULATOIN__\n",
    "\n",
    "\n",
    "\n",
    "__ABSTRACTION__"
   ]
  },
  {
   "cell_type": "markdown",
   "metadata": {},
   "source": [
    "# __OOPS INTRODUCTION__"
   ]
  },
  {
   "cell_type": "markdown",
   "metadata": {},
   "source": [
    "## Classes & Objects"
   ]
  },
  {
   "cell_type": "code",
   "execution_count": 9,
   "metadata": {},
   "outputs": [
    {
     "name": "stdout",
     "output_type": "stream",
     "text": [
      "this is myclass method!\n"
     ]
    }
   ],
   "source": [
    "# Class\n",
    "class myclass(): \n",
    "    def myclassMethod(self):\n",
    "        print(\"this is myclass method!\")\n",
    "        \n",
    "# Object\n",
    "myobj = myclass() \n",
    "myobj.myclassMethod()"
   ]
  },
  {
   "cell_type": "markdown",
   "metadata": {},
   "source": [
    "## Methods and Attributes"
   ]
  },
  {
   "cell_type": "code",
   "execution_count": 11,
   "metadata": {},
   "outputs": [],
   "source": [
    "# Methods and attributes\n",
    "class mycls():\n",
    "    def defineAttributes(self):\n",
    "        self.attribute1 = 10\n",
    "        self.attribute2 = 20\n",
    "    \n",
    "    def changeAttributes(self, a1, a2):\n",
    "        self.attribute1 = a1\n",
    "        self.attribute2 = a2\n",
    "        \n",
    "    def printAttributes(self):\n",
    "        print(self.attribute1, self.attribute2)"
   ]
  },
  {
   "cell_type": "code",
   "execution_count": 12,
   "metadata": {},
   "outputs": [
    {
     "name": "stdout",
     "output_type": "stream",
     "text": [
      "10 20\n",
      "30 40\n"
     ]
    }
   ],
   "source": [
    "myobj = mycls() #define obj\n",
    "myobj.defineAttributes()\n",
    "myobj.printAttributes()\n",
    "\n",
    "myobj.changeAttributes(30, 40)\n",
    "myobj.printAttributes()"
   ]
  },
  {
   "cell_type": "markdown",
   "metadata": {},
   "source": [
    "## \\_\\_init\\_\\_"
   ]
  },
  {
   "cell_type": "code",
   "execution_count": 18,
   "metadata": {},
   "outputs": [],
   "source": [
    "class student_db():\n",
    "    def __init__(self, name, roll):\n",
    "        self.name = name\n",
    "        self.rollNum = roll\n",
    "        \n",
    "    def setName(self, name):\n",
    "        self.name = name\n",
    "    \n",
    "    def getName(self):\n",
    "        return self.name\n",
    "    \n",
    "    def setRollNum(self, roll):\n",
    "        self.rollNum = roll\n",
    "    \n",
    "    def getRollNum(self):\n",
    "        return self.rollNum"
   ]
  },
  {
   "cell_type": "code",
   "execution_count": 23,
   "metadata": {},
   "outputs": [],
   "source": [
    "student1 = student_db(\"Aruna\", 10)\n",
    "student2 = student_db(\"Dyuthi\", 31)"
   ]
  },
  {
   "cell_type": "code",
   "execution_count": 24,
   "metadata": {},
   "outputs": [
    {
     "name": "stdout",
     "output_type": "stream",
     "text": [
      "Aruna 10\n",
      "Dyuthi 31\n"
     ]
    }
   ],
   "source": [
    "print(student1.getName(), student1.getRollNum())\n",
    "print(student2.getName(), student2.getRollNum())"
   ]
  },
  {
   "cell_type": "markdown",
   "metadata": {},
   "source": [
    "# ENCAPSULATION"
   ]
  },
  {
   "cell_type": "code",
   "execution_count": 31,
   "metadata": {},
   "outputs": [],
   "source": [
    "# Programm without encapsulation\n",
    "\n",
    "students_db_names = []\n",
    "students_db_rollNum = []\n",
    "students_db_level = []\n",
    "\n",
    "student_db_grade = []\n",
    "\n",
    "\n",
    "def addStudent(name, rollNum, cls_level):\n",
    "    students_db_names.append(name)\n",
    "    students_db_rollNum.append(rollNum)\n",
    "    students_db_level.append(cls_level)\n",
    "    student_db_score.append(0)\n",
    "    \n",
    "def printStudentDetails(name):\n",
    "    if name in students_db_names:\n",
    "        index = students_db_names.index(name)\n",
    "        print(students_db_names[index])\n",
    "        print(students_db_rollNum[index])\n",
    "        print(students_db_level[index])\n",
    "        \n",
    "        \n",
    "def setStudentScore(name, score):\n",
    "    if name in students_db_names:\n",
    "        index = students_db_names.index(name)\n",
    "        student_db_grade[index] = score / 10\n",
    "    \n",
    "    \n",
    "        \n",
    "def Sum(a, b):\n",
    "    return a+b\n",
    "\n",
    "def Mul(a, b):\n",
    "    return a*b\n"
   ]
  },
  {
   "cell_type": "code",
   "execution_count": 32,
   "metadata": {},
   "outputs": [],
   "source": [
    "addStudent(\"Dyuthi\", 31, 2)\n",
    "addStudent(\"Aruna\", 10, 8)"
   ]
  },
  {
   "cell_type": "code",
   "execution_count": 33,
   "metadata": {},
   "outputs": [
    {
     "name": "stdout",
     "output_type": "stream",
     "text": [
      "Aruna\n",
      "10\n",
      "8\n"
     ]
    }
   ],
   "source": [
    "printStudentDetails(\"Aruna\")"
   ]
  },
  {
   "cell_type": "code",
   "execution_count": 35,
   "metadata": {},
   "outputs": [],
   "source": [
    "# with encapsulation\n",
    "\n",
    "class student_db():\n",
    "    def __init__(self, name, rollNum, level):\n",
    "        self.name = name\n",
    "        self.rollNum = rollNum\n",
    "        self.level = level\n",
    "    \n",
    "    def printDetails(self):\n",
    "        print(self.name)\n",
    "        print(self.rollNum)\n",
    "        print(self.level)\n",
    "    \n",
    "    \n"
   ]
  },
  {
   "cell_type": "code",
   "execution_count": 36,
   "metadata": {},
   "outputs": [
    {
     "name": "stdout",
     "output_type": "stream",
     "text": [
      "Phani\n",
      "100\n",
      "10\n"
     ]
    }
   ],
   "source": [
    "student1 = student_db(\"Phani\", 100, 10)\n",
    "student1.printDetails()"
   ]
  },
  {
   "cell_type": "markdown",
   "metadata": {},
   "source": [
    "# Abstraction\n",
    "- Private \n",
    "- Public"
   ]
  },
  {
   "cell_type": "code",
   "execution_count": null,
   "metadata": {},
   "outputs": [],
   "source": [
    "def employer():\n",
    "    def __init__(self, name, curSalary):\n",
    "        \n",
    "        self.name = name           # public attribute\n",
    "        self.curSalary = curSalary # public attribute\n",
    "        self.__preSalary = 0       # private attribute\n",
    "        \n",
    "    def __hikeComputation(self):   # private method\n",
    "        pass\n",
    "        \n",
    "    def printEmployerDetails(self): # public method\n",
    "        print(self.name)\n",
    "        print(self.curSalary)\n",
    "   "
   ]
  }
 ],
 "metadata": {
  "kernelspec": {
   "display_name": "Python 3",
   "language": "python",
   "name": "python3"
  },
  "language_info": {
   "codemirror_mode": {
    "name": "ipython",
    "version": 3
   },
   "file_extension": ".py",
   "mimetype": "text/x-python",
   "name": "python",
   "nbconvert_exporter": "python",
   "pygments_lexer": "ipython3",
   "version": "3.5.6"
  }
 },
 "nbformat": 4,
 "nbformat_minor": 2
}
