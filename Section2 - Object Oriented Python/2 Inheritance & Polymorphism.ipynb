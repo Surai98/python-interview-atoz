{
 "cells": [
  {
   "cell_type": "markdown",
   "metadata": {},
   "source": [
    "## Table of Contents\n",
    "---\n",
    "__INHERINTANCE__\n",
    "- [Single Inheritance](#)\n",
    "- [Multiple Inheritance](#)\n",
    "- [Multilevel Inheritance](#)\n",
    "\n",
    "\n",
    "__POLYMORPHISM__\n",
    "- [](#)\n",
    "\n"
   ]
  },
  {
   "cell_type": "markdown",
   "metadata": {},
   "source": [
    "# INHERINTANCE"
   ]
  },
  {
   "cell_type": "code",
   "execution_count": 38,
   "metadata": {},
   "outputs": [],
   "source": [
    "## Single Inheritance\n",
    "class animal():\n",
    "    def __init__(self):\n",
    "        self.Type = \"animal\" \n",
    "        self.name = \"Not Defined\" \n",
    "    \n",
    "    def eat(self):\n",
    "        print(\"I'm \", self.name, self.Type, \", eating ... Done\")\n",
    "  \n",
    "        \n",
    "        \n",
    "class dog(animal):\n",
    "    def __init__(self):\n",
    "        animal.__init__(self)\n",
    "        self.name = \"Dog\"\n",
    "    \n",
    "class cat(animal):\n",
    "    def __init__(self):\n",
    "        animal.__init__(self)\n",
    "        self.name = \"Cat\"\n",
    "        self.mySound = \"Meww\"\n",
    "    \n",
    "    \n",
    "\n",
    "class bird():\n",
    "    def __init__(self):\n",
    "        self.Type = \"bird\"\n",
    "        self.name = \"Not Defined\"\n",
    "        \n",
    "    def fly(self):\n",
    "        print(\"I'm \", self.name, self.Type, \"can .....fly!\")\n",
    "        \n",
    "class parrot(bird):\n",
    "    def __init__(self):\n",
    "        bird.__init__(self)\n",
    "        self.name = \"parrot\"\n",
    "        \n",
    "        \n"
   ]
  },
  {
   "cell_type": "code",
   "execution_count": 39,
   "metadata": {},
   "outputs": [
    {
     "name": "stdout",
     "output_type": "stream",
     "text": [
      "I'm  Dog animal , eating ... Done\n",
      "I'm  Cat animal , eating ... Done\n",
      "I'm  parrot bird can .....fly!\n"
     ]
    }
   ],
   "source": [
    "d1 = dog()\n",
    "d1.eat()\n",
    "\n",
    "c1 = cat()\n",
    "c1.eat()\n",
    "\n",
    "b1 = parrot()\n",
    "b1.fly()"
   ]
  },
  {
   "cell_type": "markdown",
   "metadata": {},
   "source": [
    "# Multiple Inheritance"
   ]
  },
  {
   "cell_type": "code",
   "execution_count": 41,
   "metadata": {},
   "outputs": [],
   "source": [
    "class father():\n",
    "    def __init__(self):\n",
    "        self.foo = 'father_foo'\n",
    "        self.foo1 = 'father_foo1'\n",
    "#         self.hobbies = \n",
    "    pass\n",
    "\n",
    "class mother():\n",
    "    def __init__(self):\n",
    "        self.foo = 'mother_foo'\n",
    "        self.foo2 = 'mother_foo2'\n",
    "    pass\n",
    "\n",
    "class child(father,mother):\n",
    "    def __init__(self):\n",
    "        father.__init__(self)\n",
    "        mother.__init__(self)\n",
    "        print(self.foo,self.foo1,self.foo2)\n",
    "        \n",
    "    "
   ]
  },
  {
   "cell_type": "code",
   "execution_count": 42,
   "metadata": {},
   "outputs": [
    {
     "name": "stdout",
     "output_type": "stream",
     "text": [
      "mother_foo father_foo1 mother_foo2\n"
     ]
    }
   ],
   "source": [
    "c = child()\n"
   ]
  },
  {
   "cell_type": "markdown",
   "metadata": {},
   "source": [
    "# Multilevel Inheritance"
   ]
  },
  {
   "cell_type": "code",
   "execution_count": 53,
   "metadata": {},
   "outputs": [],
   "source": [
    "class father():\n",
    "    def __init__(self):\n",
    "        print('Father init')\n",
    "        self.foo = 'father_foo'\n",
    "        self.foo1 = 'father_foo1'\n",
    "#         self.hobbies = \n",
    "    pass\n",
    "\n",
    "class son(father):\n",
    "    def __init__(self):\n",
    "        print('Son init')\n",
    "        father.__init__(self)\n",
    "        self.foo = 'son_foo'\n",
    "        self.foo2 = 'son_foo2'\n",
    "#         self.hobbies = \n",
    "    pass\n",
    "\n",
    "class grandSon(son):\n",
    "    def __init__(self):\n",
    "        print('grandSon init')\n",
    "        son.__init__(self)\n",
    "        self.foo = 'gandson_foo'\n",
    "        self.foo3 = 'grandson_foo3'\n",
    "        print(self.foo,self.foo1,self.foo2,self.foo3)\n",
    "#         self.hobbies = \n",
    "    pass"
   ]
  },
  {
   "cell_type": "code",
   "execution_count": 54,
   "metadata": {},
   "outputs": [
    {
     "name": "stdout",
     "output_type": "stream",
     "text": [
      "grandSon init\n",
      "Son init\n",
      "Father init\n",
      "son_foo father_foo1 son_foo2 grandson_foo3\n"
     ]
    }
   ],
   "source": [
    "g1 = grandSon()"
   ]
  },
  {
   "cell_type": "markdown",
   "metadata": {},
   "source": [
    "# Polymorphism"
   ]
  },
  {
   "cell_type": "code",
   "execution_count": null,
   "metadata": {},
   "outputs": [],
   "source": [
    "def Sum(a,b,c=0):\n",
    "    return a+b+c\n",
    "\n",
    "print()"
   ]
  },
  {
   "cell_type": "code",
   "execution_count": 67,
   "metadata": {},
   "outputs": [
    {
     "data": {
      "text/plain": [
       "<__main__.countries at 0x1fd5d095588>"
      ]
     },
     "execution_count": 67,
     "metadata": {},
     "output_type": "execute_result"
    }
   ],
   "source": [
    "class India():\n",
    "    def __init__(self):\n",
    "        pass\n",
    "    \n",
    "    def capital(self):\n",
    "        print(\"Delhi\")\n",
    "\n",
    "class USA():\n",
    "    def __init__(self):\n",
    "        pass\n",
    "    \n",
    "    def capital(self):\n",
    "        print(\"Washington DC\")\n",
    "\n",
    "class countries():\n",
    "    def __init__(self,country):\n",
    "        self.country = country()\n",
    "        pass\n",
    "    \n",
    "    def capital(self):\n",
    "        self.country.capital()\n",
    "        \n",
    "\n",
    "\n",
    "countries(USA)"
   ]
  },
  {
   "cell_type": "code",
   "execution_count": 68,
   "metadata": {},
   "outputs": [
    {
     "name": "stdout",
     "output_type": "stream",
     "text": [
      "Delhi\n"
     ]
    }
   ],
   "source": [
    "cl = countries(India)\n",
    "cl.capital()"
   ]
  },
  {
   "cell_type": "code",
   "execution_count": null,
   "metadata": {},
   "outputs": [],
   "source": []
  }
 ],
 "metadata": {
  "kernelspec": {
   "display_name": "Python 3",
   "language": "python",
   "name": "python3"
  },
  "language_info": {
   "codemirror_mode": {
    "name": "ipython",
    "version": 3
   },
   "file_extension": ".py",
   "mimetype": "text/x-python",
   "name": "python",
   "nbconvert_exporter": "python",
   "pygments_lexer": "ipython3",
   "version": "3.6.5"
  }
 },
 "nbformat": 4,
 "nbformat_minor": 2
}
