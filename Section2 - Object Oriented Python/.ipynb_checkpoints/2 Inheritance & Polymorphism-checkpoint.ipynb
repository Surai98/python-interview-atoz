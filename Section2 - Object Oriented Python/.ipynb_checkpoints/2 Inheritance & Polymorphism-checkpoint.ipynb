{
 "cells": [
  {
   "cell_type": "markdown",
   "metadata": {},
   "source": [
    "## Table of Contents\n",
    "---\n",
    "__INHERINTANCE__\n",
    "- [Single Inheritance](#)\n",
    "- [Multiple Inheritance](#)\n",
    "- [Multilevel Inheritance](#)\n",
    "\n",
    "\n",
    "__POLYMORPHISM__\n",
    "- [](#)\n",
    "\n"
   ]
  },
  {
   "cell_type": "markdown",
   "metadata": {},
   "source": [
    "# INHERINTANCE"
   ]
  },
  {
   "cell_type": "code",
   "execution_count": 19,
   "metadata": {},
   "outputs": [],
   "source": [
    "## Single Inheritance\n",
    "class parent():\n",
    "    def __init__(self):\n",
    "        self.name = \"Raj\"\n",
    "        \n",
    "        print(\"Parent init Done\")\n",
    "        \n",
    "    def createPrivateData(self):\n",
    "        self.__privateID = 1234\n",
    "    \n",
    "    def printDetails(self):\n",
    "        print(\"Details : \", self.name)\n",
    "\n",
    "class child(parent):\n",
    "    def __init__(self):\n",
    "        parent.__init__(self)\n",
    "        self.name = \"Raj-Junior\"\n",
    "        print(\"Child init Done\")\n",
    "    \n",
    "        \n",
    "    \n",
    "    "
   ]
  },
  {
   "cell_type": "code",
   "execution_count": 20,
   "metadata": {},
   "outputs": [
    {
     "name": "stdout",
     "output_type": "stream",
     "text": [
      "Parent init Done\n",
      "Child init Done\n",
      "Details :  Raj-Junior 1234\n"
     ]
    }
   ],
   "source": [
    "c1 = child()\n",
    "c1.printDetails()"
   ]
  },
  {
   "cell_type": "code",
   "execution_count": null,
   "metadata": {},
   "outputs": [],
   "source": []
  },
  {
   "cell_type": "code",
   "execution_count": null,
   "metadata": {},
   "outputs": [],
   "source": []
  }
 ],
 "metadata": {
  "kernelspec": {
   "display_name": "Python 3",
   "language": "python",
   "name": "python3"
  },
  "language_info": {
   "codemirror_mode": {
    "name": "ipython",
    "version": 3
   },
   "file_extension": ".py",
   "mimetype": "text/x-python",
   "name": "python",
   "nbconvert_exporter": "python",
   "pygments_lexer": "ipython3",
   "version": "3.6.5"
  }
 },
 "nbformat": 4,
 "nbformat_minor": 2
}
