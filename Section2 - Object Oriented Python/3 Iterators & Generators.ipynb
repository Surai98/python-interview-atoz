{
 "cells": [
  {
   "cell_type": "code",
   "execution_count": 1,
   "metadata": {},
   "outputs": [],
   "source": [
    "class mycls():\n",
    "\n",
    "        \n",
    "    def __init__(self):\n",
    "        self.a = \"n1\"\n",
    "        self.b = \"n2\"\n",
    "        self.c = \"n3\"\n",
    "        self.d = \"n4\"\n",
    "        \n",
    "\n",
    "    def __iter__(self):\n",
    "        yield self.a\n",
    "        yield self.b\n",
    "        yield self.c\n",
    "        yield self.d\n",
    "        "
   ]
  },
  {
   "cell_type": "code",
   "execution_count": 2,
   "metadata": {},
   "outputs": [],
   "source": [
    "def foo():\n",
    "    yield \"a\"\n",
    "    yield \"b\"\n",
    "    yield \"c\"\n",
    "    yield \"d\""
   ]
  },
  {
   "cell_type": "code",
   "execution_count": 3,
   "metadata": {},
   "outputs": [
    {
     "name": "stdout",
     "output_type": "stream",
     "text": [
      "<class '__main__.mycls'> <class 'generator'>\n"
     ]
    }
   ],
   "source": [
    "obj = mycls()\n",
    "\n",
    "print(type(obj), type(iter(obj)))"
   ]
  },
  {
   "cell_type": "code",
   "execution_count": 4,
   "metadata": {},
   "outputs": [
    {
     "name": "stdout",
     "output_type": "stream",
     "text": [
      "n1\n",
      "n2\n",
      "n3\n",
      "n4\n",
      "n1\n",
      "n2\n",
      "n3\n",
      "n4\n"
     ]
    }
   ],
   "source": [
    "for i in obj:\n",
    "    print(i)\n",
    "    \n",
    "for i in obj:\n",
    "    print(i)"
   ]
  },
  {
   "cell_type": "code",
   "execution_count": 5,
   "metadata": {},
   "outputs": [
    {
     "name": "stdout",
     "output_type": "stream",
     "text": [
      "n1 n1\n",
      "n1 n2\n",
      "n1 n3\n",
      "n1 n4\n",
      "n2 n1\n",
      "n2 n2\n",
      "n2 n3\n",
      "n2 n4\n",
      "n3 n1\n",
      "n3 n2\n",
      "n3 n3\n",
      "n3 n4\n",
      "n4 n1\n",
      "n4 n2\n",
      "n4 n3\n",
      "n4 n4\n"
     ]
    }
   ],
   "source": [
    "for i in obj:\n",
    "    for j in obj:\n",
    "        print(i,j)"
   ]
  },
  {
   "cell_type": "code",
   "execution_count": 1,
   "metadata": {},
   "outputs": [
    {
     "ename": "NameError",
     "evalue": "name 'mycls' is not defined",
     "output_type": "error",
     "traceback": [
      "\u001b[1;31m---------------------------------------------------------------------------\u001b[0m",
      "\u001b[1;31mNameError\u001b[0m                                 Traceback (most recent call last)",
      "\u001b[1;32m<ipython-input-1-104df2260908>\u001b[0m in \u001b[0;36m<module>\u001b[1;34m()\u001b[0m\n\u001b[1;32m----> 1\u001b[1;33m \u001b[1;32mclass\u001b[0m \u001b[0mmycls\u001b[0m\u001b[1;33m(\u001b[0m\u001b[1;33m)\u001b[0m\u001b[1;33m:\u001b[0m\u001b[1;33m\u001b[0m\u001b[0m\n\u001b[0m\u001b[0;32m      2\u001b[0m \u001b[1;33m\u001b[0m\u001b[0m\n\u001b[0;32m      3\u001b[0m     \u001b[1;32mclass\u001b[0m \u001b[0mmyclsIter\u001b[0m\u001b[1;33m(\u001b[0m\u001b[0mmycls\u001b[0m\u001b[1;33m)\u001b[0m\u001b[1;33m:\u001b[0m\u001b[1;33m\u001b[0m\u001b[0m\n\u001b[0;32m      4\u001b[0m         \u001b[1;32mdef\u001b[0m \u001b[0m__init__\u001b[0m\u001b[1;33m(\u001b[0m\u001b[0mself\u001b[0m\u001b[1;33m)\u001b[0m\u001b[1;33m:\u001b[0m\u001b[1;33m\u001b[0m\u001b[0m\n\u001b[0;32m      5\u001b[0m             \u001b[0mmycls\u001b[0m\u001b[1;33m.\u001b[0m\u001b[0m__init__\u001b[0m\u001b[1;33m(\u001b[0m\u001b[0mself\u001b[0m\u001b[1;33m)\u001b[0m\u001b[1;33m\u001b[0m\u001b[0m\n",
      "\u001b[1;32m<ipython-input-1-104df2260908>\u001b[0m in \u001b[0;36mmycls\u001b[1;34m()\u001b[0m\n\u001b[0;32m      1\u001b[0m \u001b[1;32mclass\u001b[0m \u001b[0mmycls\u001b[0m\u001b[1;33m(\u001b[0m\u001b[1;33m)\u001b[0m\u001b[1;33m:\u001b[0m\u001b[1;33m\u001b[0m\u001b[0m\n\u001b[0;32m      2\u001b[0m \u001b[1;33m\u001b[0m\u001b[0m\n\u001b[1;32m----> 3\u001b[1;33m     \u001b[1;32mclass\u001b[0m \u001b[0mmyclsIter\u001b[0m\u001b[1;33m(\u001b[0m\u001b[0mmycls\u001b[0m\u001b[1;33m)\u001b[0m\u001b[1;33m:\u001b[0m\u001b[1;33m\u001b[0m\u001b[0m\n\u001b[0m\u001b[0;32m      4\u001b[0m         \u001b[1;32mdef\u001b[0m \u001b[0m__init__\u001b[0m\u001b[1;33m(\u001b[0m\u001b[0mself\u001b[0m\u001b[1;33m)\u001b[0m\u001b[1;33m:\u001b[0m\u001b[1;33m\u001b[0m\u001b[0m\n\u001b[0;32m      5\u001b[0m             \u001b[0mmycls\u001b[0m\u001b[1;33m.\u001b[0m\u001b[0m__init__\u001b[0m\u001b[1;33m(\u001b[0m\u001b[0mself\u001b[0m\u001b[1;33m)\u001b[0m\u001b[1;33m\u001b[0m\u001b[0m\n",
      "\u001b[1;31mNameError\u001b[0m: name 'mycls' is not defined"
     ]
    }
   ],
   "source": [
    "class mycls():\n",
    "    \n",
    "    class myclsIter(mycls):\n",
    "        def __init__(self):\n",
    "            mycls.__init__(self)\n",
    "            self.iteration = 0\n",
    "\n",
    "    \n",
    "        def __next__(self):\n",
    "            if self.iteration >= len(self.a):\n",
    "                self.iteration = 0\n",
    "                raise StopIteration\n",
    "\n",
    "            if self.iteration == 0:\n",
    "                self.iteration += 1\n",
    "                return self.a\n",
    "            elif self.iteration == 1:\n",
    "                self.iteration += 1\n",
    "                return self.b\n",
    "            elif self.iteration == 2:\n",
    "                self.iteration += 1\n",
    "                return self.c\n",
    "            elif self.iteration == 3:\n",
    "                self.iteration += 1\n",
    "                return self.d\n",
    "        \n",
    "        \n",
    "        \n",
    "    def __init__(self):\n",
    "        self.a = [\"n1\",\"n2\",\"n3\",\"n4\"]\n",
    "#         self.a = \"n1\"\n",
    "#         self.b = \"n2\"\n",
    "#         self.c = \"n3\"\n",
    "#         self.d = \"n4\"\n",
    "        \n",
    "\n",
    "    def __iter__(self):\n",
    "        return self.myclsIter()\n",
    "        \n",
    "        "
   ]
  },
  {
   "cell_type": "code",
   "execution_count": 10,
   "metadata": {},
   "outputs": [],
   "source": [
    "class mycls:\n",
    "    \n",
    "    class myclsIter():\n",
    "        def __init__(self,iteration,a,b,c,d):\n",
    "            print('---------------------')\n",
    "            self.a = \"n1\"\n",
    "            self.b = \"n2\"\n",
    "            self.c = \"n3\"\n",
    "            self.d = \"n4\"\n",
    "#             mycls.__init__(self)\n",
    "            self.iteration = iteration\n",
    "\n",
    "    \n",
    "        def __next__(self):\n",
    "            print(self.iteration)\n",
    "            if self.iteration >= 4:\n",
    "#                 self.iteration = 0\n",
    "                raise StopIteration\n",
    "\n",
    "            if self.iteration == 0:\n",
    "                self.iteration += 1\n",
    "                return self.a\n",
    "            elif self.iteration == 1:\n",
    "                self.iteration += 1\n",
    "                return self.b\n",
    "            elif self.iteration == 2:\n",
    "                self.iteration += 1\n",
    "                return self.c\n",
    "            elif self.iteration == 3:\n",
    "                self.iteration += 1\n",
    "                return self.d\n",
    "        \n",
    "        \n",
    "        \n",
    "    def __init__(self):\n",
    "        print('----------njhnhj-----------')\n",
    "        self.a = \"n1\"\n",
    "        self.b = \"n2\"\n",
    "        self.c = \"n3\"\n",
    "        self.d = \"n4\"\n",
    "        self.iteration = 0\n",
    "        \n",
    "\n",
    "    def __iter__(self):\n",
    "        return self.myclsIter(self.iteration,self.a,self.b,self.c,self.d)\n",
    "        \n",
    "        "
   ]
  },
  {
   "cell_type": "code",
   "execution_count": 62,
   "metadata": {},
   "outputs": [],
   "source": [
    "class A():\n",
    "    def __init__(self):\n",
    "        self.a = ['n1','n2','n3']\n",
    "        print('njjhn')\n",
    "        \n",
    "        \n",
    "    class A_iter():\n",
    "        def __init__(self,a):\n",
    "            self.a = a\n",
    "            self.cur = 0\n",
    "        \n",
    "        def __next__(self):\n",
    "            if self.cur >= len(self.a):\n",
    "                raise StopIteration\n",
    "            self.cur += 1\n",
    "            return self.a[self.cur-1]\n",
    "\n",
    "    def __iter__(self):\n",
    "        return self.A_iter(self.a)\n",
    "    \n",
    "    \n"
   ]
  },
  {
   "cell_type": "code",
   "execution_count": 63,
   "metadata": {},
   "outputs": [
    {
     "name": "stdout",
     "output_type": "stream",
     "text": [
      "njjhn\n"
     ]
    }
   ],
   "source": [
    "obj = A()"
   ]
  },
  {
   "cell_type": "code",
   "execution_count": 64,
   "metadata": {},
   "outputs": [
    {
     "name": "stdout",
     "output_type": "stream",
     "text": [
      "n1\n",
      "n2\n",
      "n3\n"
     ]
    }
   ],
   "source": [
    "for i in obj:\n",
    "    print(i)\n",
    "    "
   ]
  },
  {
   "cell_type": "code",
   "execution_count": 11,
   "metadata": {},
   "outputs": [
    {
     "name": "stdout",
     "output_type": "stream",
     "text": [
      "----------njhnhj-----------\n"
     ]
    }
   ],
   "source": [
    "obj = mycls()"
   ]
  },
  {
   "cell_type": "code",
   "execution_count": 12,
   "metadata": {},
   "outputs": [
    {
     "name": "stdout",
     "output_type": "stream",
     "text": [
      "---------------------\n",
      "0\n",
      "n1\n",
      "1\n",
      "n2\n",
      "2\n",
      "n3\n",
      "3\n",
      "n4\n",
      "4\n",
      "---------------------\n",
      "0\n",
      "n1\n",
      "1\n",
      "n2\n",
      "2\n",
      "n3\n",
      "3\n",
      "n4\n",
      "4\n"
     ]
    }
   ],
   "source": [
    "for i in obj:\n",
    "    print(i)\n",
    "    \n",
    "for i in obj:\n",
    "    print(i)"
   ]
  },
  {
   "cell_type": "code",
   "execution_count": 13,
   "metadata": {},
   "outputs": [
    {
     "name": "stdout",
     "output_type": "stream",
     "text": [
      "---------------------\n",
      "0\n",
      "---------------------\n",
      "0\n",
      "n1 n1\n",
      "1\n",
      "n1 n2\n",
      "2\n",
      "n1 n3\n",
      "3\n",
      "n1 n4\n",
      "4\n",
      "1\n",
      "---------------------\n",
      "0\n",
      "n2 n1\n",
      "1\n",
      "n2 n2\n",
      "2\n",
      "n2 n3\n",
      "3\n",
      "n2 n4\n",
      "4\n",
      "2\n",
      "---------------------\n",
      "0\n",
      "n3 n1\n",
      "1\n",
      "n3 n2\n",
      "2\n",
      "n3 n3\n",
      "3\n",
      "n3 n4\n",
      "4\n",
      "3\n",
      "---------------------\n",
      "0\n",
      "n4 n1\n",
      "1\n",
      "n4 n2\n",
      "2\n",
      "n4 n3\n",
      "3\n",
      "n4 n4\n",
      "4\n",
      "4\n"
     ]
    }
   ],
   "source": [
    "for i in obj:\n",
    "    for j in obj:\n",
    "        print(i,j)"
   ]
  },
  {
   "cell_type": "code",
   "execution_count": null,
   "metadata": {},
   "outputs": [],
   "source": []
  }
 ],
 "metadata": {
  "kernelspec": {
   "display_name": "Python 3",
   "language": "python",
   "name": "python3"
  },
  "language_info": {
   "codemirror_mode": {
    "name": "ipython",
    "version": 3
   },
   "file_extension": ".py",
   "mimetype": "text/x-python",
   "name": "python",
   "nbconvert_exporter": "python",
   "pygments_lexer": "ipython3",
   "version": "3.6.5"
  }
 },
 "nbformat": 4,
 "nbformat_minor": 2
}
