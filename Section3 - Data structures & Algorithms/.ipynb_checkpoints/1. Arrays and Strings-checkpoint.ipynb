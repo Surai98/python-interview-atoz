{
 "cells": [
  {
   "cell_type": "markdown",
   "metadata": {},
   "source": [
    "## Table of contents\n",
    "---\n",
    "__Concepts (Book)__\n",
    " - [Hash tables](#)\n",
    " - [Arraylist and resible data types ](#) \n",
    " - [String builder](#)    \n",
    " \n",
    "__Concepts (Udamy)__\n",
    " - [Amortization](#)\n",
    " - [Dynamic array](#)\n",
    " - [Introduction to array based sequences](#)\n",
    " - [Low level arrays](#)\n",
    "    \n",
    "   \n",
    "     "
   ]
  },
  {
   "cell_type": "markdown",
   "metadata": {},
   "source": []
  },
  {
   "cell_type": "markdown",
   "metadata": {},
   "source": [
    "__Problems (Book)__"
   ]
  },
  {
   "cell_type": "markdown",
   "metadata": {},
   "source": [
    " - [1 Is unique : ](#) <br>\n",
    "   Implement an algorithm to determine if a string has all unique charactors.What if you cannot use additional data structures?\n",
    "   > *Hint ?*\n",
    " "
   ]
  },
  {
   "cell_type": "markdown",
   "metadata": {},
   "source": [
    "__Solution :__    "
   ]
  },
  {
   "cell_type": "code",
   "execution_count": null,
   "metadata": {},
   "outputs": [],
   "source": [
    "def is_unique(str):\n",
    "    \"\"\"\n",
    "    arg : string with different charactors\n",
    "    return : array with unique charactors\n",
    "    \"\"\"\n",
    "    str_unique = str\n",
    "    \n",
    "    \n",
    "    return str_unique\n"
   ]
  },
  {
   "cell_type": "markdown",
   "metadata": {},
   "source": [
    "- [2 Check permutation : ](#) <br>\n",
    "   Given two strings,Write a method to decide if one is a permutation of the other.\n",
    "   > *Hint ?*\n",
    " "
   ]
  },
  {
   "cell_type": "markdown",
   "metadata": {},
   "source": [
    "__Solution :__"
   ]
  },
  {
   "cell_type": "code",
   "execution_count": 2,
   "metadata": {},
   "outputs": [],
   "source": [
    "\n",
    "def is_permutation(str):\n",
    "    \"\"\"\n",
    "    arg : Give a original string\n",
    "    return : True       # if it permutation of the original string \n",
    "    \"\"\"\n",
    "    new_string = str\n",
    "    \n",
    "    \n",
    "    return new_string"
   ]
  },
  {
   "cell_type": "markdown",
   "metadata": {},
   "source": [
    "- [3 URLify : ](#) <br> \n",
    "   Write a method to replace all spaces inn a string with '%20'.You may assume that the string has sufficient space at the end to hold the addtional characters, and that you are given the\"true\"length of the string.(Note: if implementing in java,please use a charactor array so that you can preform this operation in place.)\n",
    "   > *Hint ?*\n",
    " "
   ]
  },
  {
   "cell_type": "markdown",
   "metadata": {},
   "source": [
    "__Solutions :__"
   ]
  },
  {
   "cell_type": "code",
   "execution_count": null,
   "metadata": {},
   "outputs": [],
   "source": [
    "def Replace_space(str):\n",
    "    \"\"\"\n",
    "    str : given a sentence\n",
    "    return : the gap between the word to word is replaced with the '%20'\n",
    "    \"\"\"\n",
    "    \n",
    "    new_str = str\n",
    "    \n",
    "    return new_str"
   ]
  },
  {
   "cell_type": "markdown",
   "metadata": {},
   "source": [
    "- [4 Palindrome permutation : ](#) <br>\n",
    "   Given a string, Write a function to check if it is a permutation of a polindram.a palindram is a word or pharse that is the same forwards and backwards.A permutation is a rearragngement of latters.the polindram doesnot need to be limited to just dictionary words.\n",
    "  > *Hint ?*"
   ]
  },
  {
   "cell_type": "markdown",
   "metadata": {},
   "source": [
    "__Solutions :__"
   ]
  },
  {
   "cell_type": "code",
   "execution_count": null,
   "metadata": {},
   "outputs": [],
   "source": []
  },
  {
   "cell_type": "markdown",
   "metadata": {},
   "source": [
    "- [5 One away : ](#) <br>\n",
    "   There are three types of edits that can be perform on strings insert a charactor,remove a charctor,or replace acharactor. given two strings,write a function to check if they are one edit (or 0 edits) away.\n",
    "   > *Hint ?*\n",
    " "
   ]
  },
  {
   "cell_type": "markdown",
   "metadata": {},
   "source": [
    "__Solutions :__"
   ]
  },
  {
   "cell_type": "code",
   "execution_count": null,
   "metadata": {},
   "outputs": [],
   "source": []
  },
  {
   "cell_type": "markdown",
   "metadata": {},
   "source": [
    "- [6 String compression : ](#) <br>\n",
    "   Implement a method to perform basic string compresion using the counts of repeated characters.\n",
    "      > *for example*\n",
    "      - the string aabcccccaaa would become a2b1c5a3.if the \"compressed\" string would not become smaller than the original string,your method should return the original string.you can assume the string has only uppercase and lowercase letters(a-z).\n",
    "     > *Hint ?*"
   ]
  },
  {
   "cell_type": "markdown",
   "metadata": {},
   "source": [
    "__Solutions :__"
   ]
  },
  {
   "cell_type": "code",
   "execution_count": null,
   "metadata": {},
   "outputs": [],
   "source": []
  },
  {
   "cell_type": "markdown",
   "metadata": {},
   "source": [
    " - [7 Rotate matrix : ](#) <br> \n",
    "   Given an image represented by an N*N matrix,where each pixel in the image is 4 bytes,write a method to rotate the image by 90 degrees.can you do this in place?\n",
    "      > *Hint ?*\n"
   ]
  },
  {
   "cell_type": "markdown",
   "metadata": {},
   "source": [
    "__Solutions :__"
   ]
  },
  {
   "cell_type": "code",
   "execution_count": null,
   "metadata": {},
   "outputs": [],
   "source": []
  },
  {
   "cell_type": "markdown",
   "metadata": {},
   "source": [
    "- [8 Zero Matrix : ](#) <br>\n",
    "   Write an algorithm such that if an element in an M*N matrix is 0,it's entire row and column are set to 0.\n",
    "     > *Hint ?*"
   ]
  },
  {
   "cell_type": "markdown",
   "metadata": {},
   "source": [
    "__Solutions :__"
   ]
  },
  {
   "cell_type": "code",
   "execution_count": null,
   "metadata": {},
   "outputs": [],
   "source": []
  },
  {
   "cell_type": "markdown",
   "metadata": {},
   "source": [
    "- [9 String rotation : ](#) <br>\n",
    "   Assume you have a method is substring which checks if one word is a sobstring of another.given two strings,s1 and s2,write code to check if s2 is a rotation of s1 using only one call to is substring.(e.g.,\"waterbottle\" is a rotation of \"erbottlewat\").\n",
    "     > *Hint ?*"
   ]
  },
  {
   "cell_type": "markdown",
   "metadata": {},
   "source": [
    "__Solutions :__"
   ]
  },
  {
   "cell_type": "code",
   "execution_count": null,
   "metadata": {},
   "outputs": [],
   "source": []
  },
  {
   "cell_type": "code",
   "execution_count": null,
   "metadata": {},
   "outputs": [],
   "source": []
  },
  {
   "cell_type": "markdown",
   "metadata": {},
   "source": [
    "__Problems (Udemy)__\n",
    "- [Anagram : ](#) <br>\n",
    "              p1 problem explination\n",
    "- [Array pair sum : ](#) <br> \n",
    "              p2 explanation\n",
    "- [Find the missing element : ](#) <br> \n",
    "              p3 explanation\n",
    "- [Largest continous sum : ](#) <br>  \n",
    "              p4 explanation\n",
    "- [Sentence reversal : ](#) <br> \n",
    "              p5 explanation\n",
    "- [String compression : ](#) <br>\n",
    "              p6 explanation\n",
    "- [Unique characters in string : ](#) <br>\n",
    "              p7 explanation"
   ]
  },
  {
   "cell_type": "code",
   "execution_count": null,
   "metadata": {},
   "outputs": [],
   "source": []
  }
 ],
 "metadata": {
  "kernelspec": {
   "display_name": "Python 3",
   "language": "python",
   "name": "python3"
  },
  "language_info": {
   "codemirror_mode": {
    "name": "ipython",
    "version": 3
   },
   "file_extension": ".py",
   "mimetype": "text/x-python",
   "name": "python",
   "nbconvert_exporter": "python",
   "pygments_lexer": "ipython3",
   "version": "3.5.6"
  }
 },
 "nbformat": 4,
 "nbformat_minor": 2
}
