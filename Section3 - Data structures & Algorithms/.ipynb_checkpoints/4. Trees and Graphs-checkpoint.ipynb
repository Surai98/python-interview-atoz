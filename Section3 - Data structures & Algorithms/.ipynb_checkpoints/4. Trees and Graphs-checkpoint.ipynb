{
 "cells": [
  {
   "cell_type": "markdown",
   "metadata": {},
   "source": [
    "### Table of contents\n",
    "---\n",
    "__concepts (Book)__\n",
    "## Trees\n",
    " - [Types of trees](#)\n",
    " - [Trees vs binary trees](#)\n",
    " - [Binary tree vs binary search tree](#)\n",
    " - [Balanced vs unbalanced](#)\n",
    " - [Complete binary trees](#)\n",
    " - [Full binary trees](#)\n",
    " - [Perfect binary trees](#)\n",
    " - [Binary tree traversal](#) \n",
    "     - [In-oreder traversal](#)  \n",
    "     - [Post-order traversal](#) \n",
    "     - [Pre-order traversal](#)\n",
    "     \n",
    "     \n",
    " - [Bianry heaps(min-heaps and max-heaps)](#)\n",
    " - [Tries(prefix trees)](#)    \n",
    "\n",
    "## Graphs\n",
    " - [Adjacency list](#)\n",
    " - [Adjaacency matrices](#)\n",
    " - [Graph search](#)"
   ]
  },
  {
   "cell_type": "markdown",
   "metadata": {},
   "source": [
    "__Problems (Book)__\n",
    "- [1 route between nodes : ](#) <br>\n",
    "  Given a directed graph,design an algoritm to find out whether there is a route between two nodes.\n",
    "     > *Hint :*                   \n",
    "- [2 Minimal tree : ](#) <br>\n",
    "  Given a sorted (increasing order) array with unique integer elements,write an algorithm to create a binary search tree with minimal height.\n",
    "     > *Hint :*          \n",
    "- [3 List of depths : ](#) <br>\n",
    "  Given a binary tree,design an algorithm which creates a linked list of all the nodes at each depth(e.g.,if you have a tree with depth D,you will have D linked lists).\n",
    "     > *Hint :*          \n",
    "- [4 Check balanced : ](#) <br>\n",
    "  Impleament a function to check if a binary tree is balanced.For the purpose of this question ,a balanced tree is defined to be a tree such that the heights of the two subtrees of any node never differ by more than one.\n",
    "     > *Hint :*        \n",
    "- [5 Validate BST : ](#) <br>\n",
    "  Impleament a function to check if a binary tree is binary search tree.\n",
    "     > *Hint :*          \n",
    "- [6 Successor : ](#) <br>\n",
    "  Write an algorithm to find the \"next\" node(i.e., in order successor) of a given node in a binary search tree.You may assume that each node has a link to it's parent.\n",
    "     > *Hint :*          \n",
    "- [7 Build order : ](#) <br>  \n",
    "  You are given a list of projects and list of dependancies(which is a list of pairs of projects,Where the secondproject is dependent on the first project).All of a project's dependencies must be built before the project is.Find a build order that will allow the projects to be build.If there is no valid build order,return an error.\n",
    "     > *Hint :*         \n",
    "- [8 First common ancestor : ](#) <br>\n",
    "  Design an algorithm and write code to find the first common ancestor of two nodes in a binary tree.Avoid storing additional nodes in a data structure.\n",
    "  - NOTE : This is not necessarily a binary search tree.\n",
    "     > *Hint :*          \n",
    "- [9 BST sequences : ](#) <br>\n",
    "  A binary search tree was created by traversing through an array from left to right and inserting each element.Given a binary search tree with distinct elements,print all possible arrays that could have led to this tree.\n",
    "     > *Hint :*          \n",
    "- [10 check subtree : ](#) <br>\n",
    "  T1 and T2 are two very large binary trees,with T1 much bigger than T2.Creat an algorithm to determine if T2 is a subtree of T1.\n",
    "  \n",
    "  A tree T2 is a subtree of T1 if there exists a  node n in T1 such that the subtree of n is identical to T2.That is,if you cut off the tree at node n,the two trees would be identical.\n",
    "     > *Hint :*          \n",
    "- [11 randome node : ](#) <br>\n",
    "  You are implementing a binary tree class from scratch which,in addition to insert,find,and delete,haas a method getRandomNode() which returns a random node from the ttree.All nodes should be equally likely to be choosen.Design and implement an algorithm for getRandomNode,and explain how you would implement the rest of the mehtods.\n",
    "     > *Hint :*          \n",
    "- [12 paths with sum : ](#) <br>\n",
    "  You are given a binary tree iin which each node contains an integer value (which might be positive or negative).Design an algorithm to count the number of paths that sum to a given value.The path does not need to start or end at the root or a leaf,bbut it must go downwards(traveling only from parent node to child nodes).\n",
    "     > *Hint :*          \n",
    "    "
   ]
  },
  {
   "cell_type": "markdown",
   "metadata": {},
   "source": [
    "__Solutions :__"
   ]
  },
  {
   "cell_type": "markdown",
   "metadata": {},
   "source": [
    "__concepts (Udemy)__\n",
    "## Trees\n",
    " - [Introduction to trees](#)\n",
    " - [Tree representation implementation](#)\n",
    " - [Nodes and references implementation](#)\n",
    " - [Tree traversal](#)\n",
    " - [Binary heap implementation](#)\n",
    " - [Binary search trees](#)\n",
    " - [Implementation of BST](#)\n",
    "\n",
    "## Graphs\n",
    " - [What to except in the graphs section](#)\n",
    " - [Introduction to graphs](#)\n",
    " - [Adjacency matrix and adjacency list](#)\n",
    " - [Implementation of graph](#)\n",
    " - [Word ladder example problem](#)\n",
    " - [Breadt first search](#)\n",
    " - [Knight's tour example problem](#)\n",
    " - [General depth first search](#)\n",
    " - [Implementation of graph overview](#)\n",
    " - [Implementation of depth first search overview](#)\n",
    " - [Implementation of breadth first search overview](#)\n",
    "            \n"
   ]
  },
  {
   "cell_type": "markdown",
   "metadata": {},
   "source": [
    "__Problems (Udemy)__\n",
    "## Trees\n",
    "- [1 BST check : ](#) <br>\n",
    "                  p1 problem explanation\n",
    "     > *Hint :*                   \n",
    "- [2 Tree level order print : ](#) <br>\n",
    "                  p2 problem explanation\n",
    "     > *Hint :*          \n",
    "- [3 Trim a binary search tree : ](#) <br>\n",
    "                  p3 problem explanation\n",
    "     > *Hint :*   \n",
    "     \n",
    "## Graphs     \n",
    "- [1 Implement a graph : ](#) <br>\n",
    "                  p1 problem explanation\n",
    "     > *Hint :*          \n",
    "- [2 Implement a depth first search : ](#) <br>\n",
    "                  p2 problem explanation\n",
    "     > *Hint :*          \n",
    "- [3 Implement a breadth first search : ](#) <br>\n",
    "                  p3 problem explanation\n",
    "     > *Hint :*          \n"
   ]
  }
 ],
 "metadata": {
  "kernelspec": {
   "display_name": "Python 3",
   "language": "python",
   "name": "python3"
  },
  "language_info": {
   "codemirror_mode": {
    "name": "ipython",
    "version": 3
   },
   "file_extension": ".py",
   "mimetype": "text/x-python",
   "name": "python",
   "nbconvert_exporter": "python",
   "pygments_lexer": "ipython3",
   "version": "3.7.3"
  }
 },
 "nbformat": 4,
 "nbformat_minor": 2
}
