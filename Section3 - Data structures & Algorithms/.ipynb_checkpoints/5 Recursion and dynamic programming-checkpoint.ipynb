{
 "cells": [
  {
   "cell_type": "markdown",
   "metadata": {},
   "source": [
    "## Table of contents\n",
    "---\n",
    "__concepts (Book)__\n",
    " - [How to approach](#)    \n",
    "    - [Bottom-up approach](#)\n",
    "    - [Top-down approach](#)\n",
    "    - [Half and half approach](#)\n",
    " - [Recursive vs.iterative solutions](#)\n",
    " - [dynamic programming and memoization](#) \n",
    " - [Fibonacci numbers](#)\n",
    "    \n",
    "__concepts (Udemy)__\n",
    " - [Introdution to recursion](#)    \n",
    " - [Recursion H.W example problems](#)\n",
    " - [Memoization](#) \n",
    " - [Advanced topic reading(tail recursion python)](#)\n",
    "    \n",
    "  "
   ]
  },
  {
   "cell_type": "markdown",
   "metadata": {},
   "source": [
    "__Problems (Book)__\n",
    " - [1 Triple set](#) <br>\n",
    "   A child is running up a staircase with n steps and can hop either 1 step,2 steps, or 3 steps at a time.Implemnet a method to count how many possible ways the child can run up the stairs.\n",
    "      > *Hint :*        \n",
    " - [2 Robot in a grid](#) <br>\n",
    "   Imagine a robot sitting on the upper left corner of the grid with r rows and c columns.The robot can only move in two directions,right and down,but certain cells are \"off limits\" such that the robot cannot step on them.Design an algorithm to find a path for the robot from the top left to the bottom right.\n",
    "      > *Hint :*            \n",
    " - [3 Magic index](#) <br>\n",
    "   A magic index in an array A[0......n-1] is defined to be an index such that A[i] = i.Given a sorted array of disticnt integers,Write a method to find a magic index,if one exists,in array A.\n",
    "      > *Hint :* \n",
    " - [4 Power set](#) <br>\n",
    "   Write a method to return all subsets of a set.\n",
    "      > *Hint :*   \n",
    " - [5 Recursive multiply](#) <br>   \n",
    "   Write a rrecursive function to multiply two positive integers wtihout using the * opereator.You can use addition,subtraction,and bit shifting,but you should minimize the number of those operations.\n",
    "      > *Hint :* \n",
    " - [6 Towers of hanoi](#) <br>\n",
    "   In the problem of the towers of Hanoi,you have 3 towers and N disks of different sizes which can slide onto any tower.THE puzzle starts with disks sorted in ascending order of size from top tp bottom(i.e.,each disk sits on top of an even larger one).You have the following constraints:\n",
    "   (1) Only one disk can move at a time.\n",
    "   (2) A disk is slid off the top of one tower onto another tower.\n",
    "   (3) A disk cannot be placed on the top of a smaller disk.\n",
    "   \"Write a programm to move the disks from the first tower to the last using stacks.\"\n",
    "      > *Hint :* \n",
    " - [7 Permutations without dups](#) <br> \n",
    "   Write a method to compute all permutations of a string of unique characters.\n",
    "      > *Hint :* \n",
    " - [8 Permutations with dups](#) <br> \n",
    "   Write a method to compute all permutations of a string Whose characters are not necessarilly unique.The list of permutations should not have duplicates.\n",
    "      > *Hint :*\n",
    " - [9 Parens](#) <br>    \n",
    "   Impliment an algorithm to print all vallid(e.g.,properly opened and closed) combinations of n pairs of parenthesis.\n",
    "      > *Hint :*\n",
    " - [10 Paint fill](#) <br> \n",
    "   Impliment the \"paint fill\" function that one might see on many image editing programs.That is,given a screen(represented by a two-dimensional array of colors), a point,and a new color,fill in the surrounding.area until the color changes from the original color.\n",
    "      > *Hint :*\n",
    " - [11 Coins](#) <br>   \n",
    "   Given an infinite number of quaters(25 cents),dimes(10 cents),nickels(5 cents),and pennies(1 cent),Write code to calculate the number of ways of reprsenting n cents.\n",
    "      > *Hint :*\n",
    " - [12 Eight queens](#) <br> \n",
    "   Write an algorithm to print all ways of arranging eight queens on an 8X8 chess board so that none of them share the same row,coloumn,or diagonal.in this case,\"diagonal\"means all diagonals,not just the two biset the board.\n",
    "      > *Hint :*\n",
    " - [13 Stack of boxes](#) <br>  \n",
    "   You have a stack of n boxes,with widths Wi,heights hi,and depths di.The boxes cannot be rotated and can only be stacked on top of oone another if each box in the stack is strictl larger than the box above it in width,height,and depth.Implement a method to commpute the height of the tallest possible stack.the height of a stack is thesum of the heights of each box.\n",
    "      > *Hint :*\n",
    " - [14 Boolean of evaluation](#) <br>\n",
    " Given a boolean expression consisiting of the symbols 0(False),1(True),&(AND),| (OR),and ^(XOR),and a desired boolean result value result,implement a function to count the number of ways of parenthesizing the epression such that it evaluates to result."
   ]
  },
  {
   "cell_type": "markdown",
   "metadata": {},
   "source": [
    "__Solutions :__"
   ]
  },
  {
   "cell_type": "markdown",
   "metadata": {},
   "source": [
    "__problems (Udemy)__\n",
    " - [Reverse string ](#) <br>\n",
    "             p1 problem explanation    \n",
    "     > *Hint :*            \n",
    " - [String permutation](#) <br>\n",
    "                 p2 problem explanation\n",
    "     > *Hint :*            \n",
    " - [Fibanocci sequence](#) <br>\n",
    "                 p3 problem explanation\n",
    "     > *Hint :*            \n",
    " - [Coin change](#) <br>\n",
    "                 p4 problem explanation\n",
    "     > *Hint :*            \n"
   ]
  }
 ],
 "metadata": {
  "kernelspec": {
   "display_name": "Python 3",
   "language": "python",
   "name": "python3"
  },
  "language_info": {
   "codemirror_mode": {
    "name": "ipython",
    "version": 3
   },
   "file_extension": ".py",
   "mimetype": "text/x-python",
   "name": "python",
   "nbconvert_exporter": "python",
   "pygments_lexer": "ipython3",
   "version": "3.7.3"
  }
 },
 "nbformat": 4,
 "nbformat_minor": 2
}
