{
 "cells": [
  {
   "cell_type": "markdown",
   "metadata": {},
   "source": [
    "## Table of contents\n",
    "---\n",
    "__Concepts (Book)__\n",
    " - [Common sorting algorithms](#)\n",
    " - [Bubble sort](#)\n",
    " - [Selection sort](#)\n",
    " - [Merge sort](#)     \n",
    " - [Quick sort](#)\n",
    " - [Radix sort](#)\n",
    " - [Searching algorithms](#)\n",
    "    \n",
    "__Concepts (Udemy)__ \n",
    " - [Search overview](#)\n",
    " - [Sequential search](#)\n",
    " - [Implementation of  sequential search](#)\n",
    " - [Binary search](#)\n",
    " - [Implementation of  binary search](#)\n",
    " - [Hashing](#)\n",
    " - [Implementation of hash tables](#)\n",
    " - [Sorting algorithms](#)\n",
    " - [Quick note on learning sorting algorithms](#)\n",
    " - [Resources for visualizing sorting algorithms](#)\n",
    "        "
   ]
  },
  {
   "cell_type": "markdown",
   "metadata": {},
   "source": [
    "__Problem (Book)__\n",
    " - [1 Sorted merge : ](#) <br>\n",
    "   You are given sorted arrays.A and B,Where A has a large enough buffer at the end to hold B.Write a method to merge B into A in sorted order.\n",
    "      > *Hint :* \n",
    " - [2 Grouped anagrams : ](#) <br>\n",
    "   Write a method to sort an array of strings so that all the anagrams are next to each other.     \n",
    "      > *Hint :*                                  \n",
    " - [3 Search in rotated array : ](#) <br>\n",
    "   Given a sorted array of n integers that has been rotated an unknown number of times,Write code to find an element in the array was originally sorted in increasing order.\n",
    "      > *Hint :*                                  \n",
    " - [4 Sorted search,no size : ](#) <br>\n",
    "   You are given an array-like data structure Listy which lacks a size method.it does,however,have an element At(i) method that returns the element at index i in O(1) time.If i is beyond of the data structure,it reeturns - 1.(For this reason,the data structure only support positive integers.)Given a Listy which contains sorted,positive integers,find the index at which an element X occurs,If X occurs multiple times,you may return any index.\n",
    "      > *Hint :*                                 \n",
    " - [5 Sparse search : ](#) <br>\n",
    "   Given a sorted array of strings that is interspersed wiwth empty strings,Write a mehtod to find the location of a given string.\n",
    "      > *Hint :*                   \n",
    " - [6 Sort big file : ](#) <br>\n",
    "   Imagine you have a 20GB file with one string per line.Explain how you would sort the file.\n",
    "      > *Hint :*                   \n",
    " - [7 Missing int : ](#) <br>\n",
    "   Given an input file with four billion non-negetive integers,provide an algorithm to generate an integer that is not cotained in the file.Assume you have 1 GB of memory available for this task.\n",
    "      > *Hint :*                                  \n",
    " - [8 Find duplicates : ](#) <br>\n",
    "   You have an array with all the numbers form 1 to N,Where N is at most 32,000.The array may have duplicate entires and you do not know what N is.With only 4 Kilobytes of memory available,how would you print all duplicate elements in the arrya?.\n",
    "      > *Hint :*                  \n",
    " - [9 Sorted matrix search : ](#) <br>\n",
    "   Given an M x N matrix in which each column is sorted in ascending order,Write a methode to find an element.\n",
    "      > *Hint :*                   \n",
    " - [10 Rank from stream : ](#) <br>\n",
    "   Imagine you are reading in a stream of integers.Periodicaclly,you wish to be able to look up the rank of a number X(the number of values less than or equal to X).Impliment the data structures and the algorithms to support these operations.That is,implement the methode track(int X),Which is called when each number is generated,and the method get Rank of number (int X),Which returns the number of values less than or equal to X (not including X itself).\n",
    "      > *Hint :* \n",
    " - [11 Peaks and valleys : ](#) <br>\n",
    "   In an array of integers,a peak is an element which is greater than or equal to the adjacent integers and a valley is an element which is less than or equal to the adjacent integers.Fof example,in the arrray {5,8,6,2,3,4,6},{8,6} are peaks and {5,2} are valleys.given an array of integers,sort the array into an alternating sequence of peaks and valleys.\n"
   ]
  },
  {
   "cell_type": "markdown",
   "metadata": {},
   "source": [
    "__Solutions :__"
   ]
  },
  {
   "cell_type": "markdown",
   "metadata": {},
   "source": [
    "__Problems (Udemy)__\n",
    " - [Bubble sorting : ](#) <br>\n",
    "   p1 problem explanation\n",
    "     > *Hint :* \n",
    " - [Selection sorting : ](#) <br>\n",
    "   p2 problem explanation\n",
    "     > *Hint :* \n",
    " - [Insertion sorting :](#) <br>\n",
    "   p3 problem explanation\n",
    "     > *Hint :* \n",
    " - [Shell sorting : ](#) <br\n",
    "   p4 problem explanation\n",
    "     > *Hint :* \n",
    " - [Merge sorting : ](#) <br>\n",
    "   p5 problem explanation\n",
    "     > *Hint :* \n",
    " - [Quick sorting :](#) <br>\n",
    "   p6 problem explanation\n",
    "     > *Hint :* \n",
    "   "
   ]
  }
 ],
 "metadata": {
  "kernelspec": {
   "display_name": "Python 3",
   "language": "python",
   "name": "python3"
  },
  "language_info": {
   "codemirror_mode": {
    "name": "ipython",
    "version": 3
   },
   "file_extension": ".py",
   "mimetype": "text/x-python",
   "name": "python",
   "nbconvert_exporter": "python",
   "pygments_lexer": "ipython3",
   "version": "3.7.3"
  }
 },
 "nbformat": 4,
 "nbformat_minor": 2
}
