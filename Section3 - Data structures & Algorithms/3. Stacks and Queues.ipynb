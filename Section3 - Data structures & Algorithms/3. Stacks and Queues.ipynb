{
 "cells": [
  {
   "cell_type": "markdown",
   "metadata": {},
   "source": [
    "## Table of contents\n",
    "---\n",
    "__concepts (Book)__\n",
    " - [Implementing a stack](#)\n",
    " - [Implementing a Queue](#)\n",
    "\n",
    "__concepts (Udemy)__\n",
    " - [Stacks,Queues and Deques overview ](#)\n",
    " - [ Stacks overview](#)\n",
    " - [Queue overview](#)\n",
    " - [Deque overview](#)     "
   ]
  },
  {
   "cell_type": "markdown",
   "metadata": {},
   "source": [
    "__Problems (Book)__"
   ]
  },
  {
   "cell_type": "markdown",
   "metadata": {},
   "source": [
    "__[1. Three in one : ](#) <br>__\n",
    "  Describe how you could use a single array to implement three stacks.\n",
    "   > *Hint :* \n"
   ]
  },
  {
   "cell_type": "markdown",
   "metadata": {},
   "source": [
    "__Solution :__"
   ]
  },
  {
   "cell_type": "code",
   "execution_count": null,
   "metadata": {},
   "outputs": [],
   "source": []
  },
  {
   "cell_type": "markdown",
   "metadata": {},
   "source": [
    "__[2. Stack min : ](#) <br>__\n",
    "  How would you design a stack which,in addition to push and pop,has a function min which returns the minimum element?push,pop and min should all operate in O(1) time.\n",
    "   > *Hint :*         \n"
   ]
  },
  {
   "cell_type": "markdown",
   "metadata": {},
   "source": [
    "__Solution :__"
   ]
  },
  {
   "cell_type": "code",
   "execution_count": null,
   "metadata": {},
   "outputs": [],
   "source": []
  },
  {
   "cell_type": "markdown",
   "metadata": {},
   "source": [
    "__[3. Stack of plates : ](#) <br>__\n",
    "  Imagine a(literal) stack of plates.if the stack gets too high,it might topple.Therefore,in real life,we would likely start when the previous stack exceeds some threshold.impliment a data structure set of stacks that mimcs this.set of stacks should be composed of several stacks and should create a new stack oncec the prvious one exceeds capacity.sest of stacks.push() and set of stacks pop() should behave identically to a single stack (that is.pop() should return the same values as it would if there were just a single stack).\n",
    "   > *Hint :*\n"
   ]
  },
  {
   "cell_type": "markdown",
   "metadata": {},
   "source": [
    "__Solution :__"
   ]
  },
  {
   "cell_type": "code",
   "execution_count": null,
   "metadata": {},
   "outputs": [],
   "source": []
  },
  {
   "cell_type": "markdown",
   "metadata": {},
   "source": [
    "__[4 Queue via stacks : ](#) <br>__\n",
    "  Impliment a MyQueue class which impliments a queue using two stack.\n",
    "   > *Hint :*\n"
   ]
  },
  {
   "cell_type": "markdown",
   "metadata": {},
   "source": [
    "__Solution :__"
   ]
  },
  {
   "cell_type": "code",
   "execution_count": null,
   "metadata": {},
   "outputs": [],
   "source": []
  },
  {
   "cell_type": "markdown",
   "metadata": {},
   "source": [
    "__[5 Sort stack : ](#) <br>__\n",
    "  Write a programm to sort a stack such that the smallest items are onn the top.You can use an additional temporary stack,but you may not copy the elements into any other data structure(such as an array).the stack support the following operations:push,pop,peek,and isEmpty.\n",
    "   > *Hint :*\n"
   ]
  },
  {
   "cell_type": "markdown",
   "metadata": {},
   "source": [
    "__Solution :__"
   ]
  },
  {
   "cell_type": "code",
   "execution_count": null,
   "metadata": {},
   "outputs": [],
   "source": []
  },
  {
   "cell_type": "markdown",
   "metadata": {},
   "source": [
    "__[6 Animal shelter : ](#) <br>__ \n",
    "  An animal shelter,which holds only dogs and cats,operates on a strictly\"first in first out\"basis.People must adopt either the \"oldest\"(based on arrival time) of all animal at the shelter,or they can select whether they would prefer a dog or a cat (and will receive the oldest animal of that type).They cannot select which specific animal they would like.Creat the data structures to maintain this system and implement operations such as enqueue , dequeueAny, dequeueDog,and dequeueCat.You may use the built-in LinkedList data structure.\n",
    "   > *Hint :*              \n"
   ]
  },
  {
   "cell_type": "markdown",
   "metadata": {},
   "source": [
    "__Solution :__"
   ]
  },
  {
   "cell_type": "code",
   "execution_count": null,
   "metadata": {},
   "outputs": [],
   "source": []
  },
  {
   "cell_type": "code",
   "execution_count": null,
   "metadata": {},
   "outputs": [],
   "source": []
  },
  {
   "cell_type": "markdown",
   "metadata": {},
   "source": [
    "__Problems (Udemy)__\n",
    "\n",
    "- [1 Implementation of stack : ](#) <br>\n",
    "  p1 problem explanation.\n",
    "   > *Hint :* \n",
    "- [2 Implementation of Queue : ](#) <br> \n",
    "  p2 problem explanation.\n",
    "   > *Hint :*\n",
    "- [3 Implementation of Deque : ](#) <br>\n",
    "  p3 problem explanation.\n",
    "   > *Hint :*\n",
    "- [4 Balanced paranthesis check : ](#) <br>\n",
    "  p4 problem explanation.\n",
    "   > *Hint :*\n",
    "- [5 Balanced paranthesis check : ](#) <br>\n",
    "  p5 problem explanation.\n",
    "   > *Hint :*\n",
    "    \n",
    "    \n"
   ]
  },
  {
   "cell_type": "markdown",
   "metadata": {},
   "source": [
    "__Solutins :__"
   ]
  },
  {
   "cell_type": "code",
   "execution_count": null,
   "metadata": {},
   "outputs": [],
   "source": []
  }
 ],
 "metadata": {
  "kernelspec": {
   "display_name": "Python 3",
   "language": "python",
   "name": "python3"
  },
  "language_info": {
   "codemirror_mode": {
    "name": "ipython",
    "version": 3
   },
   "file_extension": ".py",
   "mimetype": "text/x-python",
   "name": "python",
   "nbconvert_exporter": "python",
   "pygments_lexer": "ipython3",
   "version": "3.7.3"
  }
 },
 "nbformat": 4,
 "nbformat_minor": 2
}
