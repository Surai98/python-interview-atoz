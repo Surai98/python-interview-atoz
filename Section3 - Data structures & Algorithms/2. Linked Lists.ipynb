{
 "cells": [
  {
   "cell_type": "markdown",
   "metadata": {},
   "source": [
    "## Table of contents\n",
    "---\n",
    "__concepts (Book)__\n",
    " - [Creating a linked list](#)\n",
    " - [Deleting a node from a singly linked list](#)\n",
    " - [The \"Runner\" technique](#)\n",
    " - [Recursive problems](#)\n",
    " \n",
    "__concepts (Udemy)__\n",
    " - [Linked list overview](#)\n",
    " - [singly linked lists](#)\n",
    " - [singly linked list implementation](#)\n",
    " - [doubly linked lists](#)\n",
    " - [doubly linked list implementation](#)\n",
    "    \n",
    "    "
   ]
  },
  {
   "cell_type": "markdown",
   "metadata": {},
   "source": [
    "__Problems (Book)__\n",
    "- [1 Remove Dups : ](#) <br>\n",
    "  Write code to remove duplicates from an unsorted linked list.\n",
    "     > *Hint :* \n",
    "- [2 Return Kth to last : ](#) <br>                  \n",
    "  Implemet an algorithm to find the Kth to last element of singly linked list.\n",
    "     > *Hint :*         \n",
    "- [3 Delete middle node : ](#) <br>                  \n",
    "  Implement an algorithm to delete a node in the middle(i.e., any node but the first and last node,not necessarily the exact middle) of a singly linked list,given only access to that node.\n",
    "     > *Hint :*              \n",
    "- [4 Partition : ](#) <br>                  \n",
    "  Write a code to partition linked list around a value x,such that all nodes less than x come before all nodesgreater than or equl to x.if x is contained with in the list,the values of x ony need to be after the elements less than x.the partition element x can appear any where in the \"right partition\";it does not need to appear between the left and right partitions.\n",
    "     > *Hint :*              \n",
    "- [5 Sum lists : ](#) <br>                 \n",
    "  You have two numbers represented by a linked list,where each node contains a single digit.the digits are stored in reverse order,such that the 1's digit is at the head of the list.write a function that adds the two number and returns the sum as a linked list.\n",
    "     > *Hint :*               \n",
    "- [6 Palindrome : ](#) <br>                   \n",
    "  Implement a function to check if a linked list is a palindrome.\n",
    "     > *Hint :*               \n",
    "- [7 Intresection : ](#) <br>  \n",
    "  Given two (singly) linked lists,determine if the two lists interset.Return the intersecting node.Note that the intersection is defined based on reference,not value.That is,if the Kth node of the first linked list is the exact same node(by reference) as the jth node of the second linked list,then they are intersecting.\n",
    "     > *Hint :* \n",
    "- [8 Loop detection : ](#) <br> \n",
    "  Given a circular linked list,implement an algorithm that returns the node at the beginning of the loop.\n",
    "     > *Hint :*\n",
    "   "
   ]
  },
  {
   "cell_type": "markdown",
   "metadata": {},
   "source": [
    "__Solutions :__"
   ]
  },
  {
   "cell_type": "code",
   "execution_count": null,
   "metadata": {},
   "outputs": [],
   "source": [
    "#1 Remove dups\n",
    "\n",
    "def remomve_dups(arr):\n",
    "    \"\"\"\n",
    "    args : array with dups\n",
    "    return : array without dups\n",
    "    \"\"\"\n",
    "    arr_nodups = arr\n",
    "    \n",
    "    \n",
    "    \n",
    "    return arr_nodups\n",
    "\n",
    "\n",
    "\n"
   ]
  },
  {
   "cell_type": "markdown",
   "metadata": {},
   "source": [
    "__Probems (Udemy)__\n",
    "- [1 single linked list cycle check : ](#) <br>\n",
    "                        p1 problem explination\n",
    "     > *Hint :*       \n",
    "- [2 linked list reversal : ](#) <br>\n",
    "                        p2 problem explination\n",
    "     > *Hint :*                    \n",
    "- [3 linked list Nth to last node : ](#) <br>\n",
    "                        p3 problem explination\n",
    "     > *Hint :*                    \n",
    "- [4 Implement a linked list : ](#) <br>\n",
    "                        p4 problem explination\n",
    "     > *Hint :*                    \n"
   ]
  },
  {
   "cell_type": "markdown",
   "metadata": {},
   "source": [
    "__Solutions :__"
   ]
  },
  {
   "cell_type": "code",
   "execution_count": null,
   "metadata": {},
   "outputs": [],
   "source": []
  }
 ],
 "metadata": {
  "kernelspec": {
   "display_name": "Python 3",
   "language": "python",
   "name": "python3"
  },
  "language_info": {
   "codemirror_mode": {
    "name": "ipython",
    "version": 3
   },
   "file_extension": ".py",
   "mimetype": "text/x-python",
   "name": "python",
   "nbconvert_exporter": "python",
   "pygments_lexer": "ipython3",
   "version": "3.5.6"
  }
 },
 "nbformat": 4,
 "nbformat_minor": 2
}
