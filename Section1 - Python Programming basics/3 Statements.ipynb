{
 "cells": [
  {
   "cell_type": "markdown",
   "metadata": {},
   "source": [
    "## Table of Contents\n",
    "---\n",
    "\n",
    "__CONDITIONS__\n",
    "- [if elif else](#)\n",
    "\n",
    "__LOOPS__\n",
    "- [While](#)\n",
    "- [For](#)\n",
    "\n",
    "__LIST COMPREHENSIONS__ <br>\n",
    "__BREAK CONTINUE PASS__ <br>\n",
    "__EXCEPTION HANDLING__\n",
    "\n",
    "\n",
    "\n"
   ]
  },
  {
   "cell_type": "markdown",
   "metadata": {},
   "source": [
    "## Conditions "
   ]
  },
  {
   "cell_type": "code",
   "execution_count": 1,
   "metadata": {},
   "outputs": [
    {
     "name": "stdout",
     "output_type": "stream",
     "text": [
      "Remainder when 6 is divided by 3 is 0\n"
     ]
    }
   ],
   "source": [
    "num = 6\n",
    "if num%3==0:\n",
    "    print('Remainder when {} is divided by 3 is 0'.format(num))\n",
    "elif num%3==1:\n",
    "    print('Remainder when {} is divided by 3 is 1'.format(num))\n",
    "else:\n",
    "    print('Remainder when {} is divided by 3 is 2'.format(num))"
   ]
  },
  {
   "cell_type": "code",
   "execution_count": 2,
   "metadata": {},
   "outputs": [
    {
     "name": "stdout",
     "output_type": "stream",
     "text": [
      "string:hi is NOT present in list:[1, 2, 'hello', 'world'] \n"
     ]
    }
   ],
   "source": [
    "string_list = [1,2,'hello','world']\n",
    "string = 'hi'\n",
    "if string in string_list:\n",
    "    print('string:{} is present in list:{} '.format(string,string_list))\n",
    "else:\n",
    "    print('string:{} is NOT present in list:{} '.format(string,string_list))"
   ]
  },
  {
   "cell_type": "markdown",
   "metadata": {},
   "source": [
    "## While"
   ]
  },
  {
   "cell_type": "code",
   "execution_count": 3,
   "metadata": {},
   "outputs": [
    {
     "name": "stdin",
     "output_type": "stream",
     "text": [
      "username:  Ram\n",
      "password:  jnwd\n"
     ]
    },
    {
     "name": "stdout",
     "output_type": "stream",
     "text": [
      "Try Again!\n"
     ]
    },
    {
     "name": "stdin",
     "output_type": "stream",
     "text": [
      "username:  Ram\n",
      "password:  8251\n"
     ]
    },
    {
     "name": "stdout",
     "output_type": "stream",
     "text": [
      "Entered correct credentails. Hurray! Login Successfully\n"
     ]
    }
   ],
   "source": [
    "db = {'Ram':'8251','Sita':'1234','Lakshman':'0381'}\n",
    "\n",
    "while True:\n",
    "    username = input('username: ')\n",
    "    password = input('password: ')\n",
    "    if username in db:\n",
    "        if db[username]==password:\n",
    "            print('Entered correct credentails. Hurray! Login Successfully')\n",
    "            break\n",
    "        else:\n",
    "            print('Try Again!')            \n",
    "    else:\n",
    "        print('Try Again!')\n",
    "#     if username,password in db.items():\n",
    "#         print('Entered correct credentails. Hurray! Login Successfully')\n",
    "#         break\n",
    "    "
   ]
  },
  {
   "cell_type": "markdown",
   "metadata": {},
   "source": [
    "## For .. in .."
   ]
  },
  {
   "cell_type": "code",
   "execution_count": 6,
   "metadata": {},
   "outputs": [
    {
     "name": "stdout",
     "output_type": "stream",
     "text": [
      "0\n",
      "1\n",
      "2\n",
      "3\n",
      "4\n",
      "5\n",
      "6\n",
      "7\n",
      "8\n",
      "9\n"
     ]
    }
   ],
   "source": [
    "for i in range(10):\n",
    "    print(i)"
   ]
  },
  {
   "cell_type": "code",
   "execution_count": 5,
   "metadata": {},
   "outputs": [
    {
     "name": "stdout",
     "output_type": "stream",
     "text": [
      "index: 0 and element: 23\n",
      "index: 1 and element: 1\n",
      "index: 2 and element: Hello\n",
      "index: 3 and element: World\n"
     ]
    }
   ],
   "source": [
    "List = ['23',1,'Hello','World']\n",
    "for i,item in enumerate(List):\n",
    "    print('index: {} and element: {}'.format(i,item))"
   ]
  },
  {
   "cell_type": "code",
   "execution_count": 9,
   "metadata": {},
   "outputs": [
    {
     "name": "stdout",
     "output_type": "stream",
     "text": [
      "hi\n",
      "world\n"
     ]
    }
   ],
   "source": [
    "Tuple = ('hi','world')\n",
    "for item in Tuple:\n",
    "    print(item)"
   ]
  },
  {
   "cell_type": "code",
   "execution_count": 11,
   "metadata": {},
   "outputs": [
    {
     "name": "stdout",
     "output_type": "stream",
     "text": [
      "c\n",
      "a\n",
      "b\n"
     ]
    }
   ],
   "source": [
    "Dict = {'a':1,'b':2,'c':3}\n",
    "for item in Dict:\n",
    "    print(item)"
   ]
  },
  {
   "cell_type": "markdown",
   "metadata": {},
   "source": [
    "## List Comprehension"
   ]
  },
  {
   "cell_type": "code",
   "execution_count": 23,
   "metadata": {},
   "outputs": [
    {
     "data": {
      "text/plain": [
       "[0, 1, 4, 9, 16, 25, 36, 49, 64, 81]"
      ]
     },
     "execution_count": 23,
     "metadata": {},
     "output_type": "execute_result"
    }
   ],
   "source": [
    "[i**2 for i in range(10)]"
   ]
  },
  {
   "cell_type": "code",
   "execution_count": 32,
   "metadata": {},
   "outputs": [
    {
     "data": {
      "text/plain": [
       "[0, 2, 4, 6, 8]"
      ]
     },
     "execution_count": 32,
     "metadata": {},
     "output_type": "execute_result"
    }
   ],
   "source": [
    "[i for i in range(10) if i%2==0]"
   ]
  },
  {
   "cell_type": "code",
   "execution_count": 36,
   "metadata": {},
   "outputs": [
    {
     "data": {
      "text/plain": [
       "[0, -1, 2, -3, 4, -5, 6, -7, 8, -9]"
      ]
     },
     "execution_count": 36,
     "metadata": {},
     "output_type": "execute_result"
    }
   ],
   "source": [
    "[i if i%2==0 else -i for i in range(10)]"
   ]
  },
  {
   "cell_type": "code",
   "execution_count": 35,
   "metadata": {},
   "outputs": [
    {
     "data": {
      "text/plain": [
       "[0, -1, 2, 1000, 4, -5, 6, -7, 8, -9]"
      ]
     },
     "execution_count": 35,
     "metadata": {},
     "output_type": "execute_result"
    }
   ],
   "source": [
    "[i if i%2==0 else 1000 if i==3 else -i for i in range(10)]"
   ]
  },
  {
   "cell_type": "markdown",
   "metadata": {},
   "source": [
    "## Break, Continue, Pass"
   ]
  },
  {
   "cell_type": "code",
   "execution_count": 5,
   "metadata": {},
   "outputs": [
    {
     "name": "stdout",
     "output_type": "stream",
     "text": [
      "0\n",
      "1\n",
      "2\n",
      "3\n",
      "4\n",
      "Skipping 5\n",
      "6\n",
      "7\n",
      "8\n"
     ]
    }
   ],
   "source": [
    "for i in range(10):    \n",
    "    if i==5:\n",
    "        print('Skipping 5')\n",
    "        continue\n",
    "    elif i==9:\n",
    "        break\n",
    "    else:\n",
    "        pass\n",
    "    print(i)"
   ]
  },
  {
   "cell_type": "code",
   "execution_count": 1,
   "metadata": {},
   "outputs": [
    {
     "name": "stdin",
     "output_type": "stream",
     "text": [
      "username:  Ram\n",
      "password:  kjds\n"
     ]
    },
    {
     "name": "stdout",
     "output_type": "stream",
     "text": [
      "Try Again!\n"
     ]
    },
    {
     "name": "stdin",
     "output_type": "stream",
     "text": [
      "username:  Ram\n",
      "password:  8251\n"
     ]
    },
    {
     "name": "stdout",
     "output_type": "stream",
     "text": [
      "Entered correct credentails. Hurray! Login Successfully\n"
     ]
    }
   ],
   "source": [
    "db = {'Ram':'8251','Sita':'1234','Lakshman':'0381'}\n",
    "\n",
    "while True:\n",
    "    username = input('username: ')\n",
    "    password = input('password: ')\n",
    "    if username in db:\n",
    "        if db[username]==password:\n",
    "            print('Entered correct credentails. Hurray! Login Successfully')\n",
    "            break\n",
    "        else:\n",
    "            print('Try Again!')    \n",
    "            continue\n",
    "    else:\n",
    "        print('Try Again!')\n",
    "    print('Processing... ')"
   ]
  },
  {
   "cell_type": "markdown",
   "metadata": {},
   "source": [
    "## Exception Handling"
   ]
  },
  {
   "cell_type": "code",
   "execution_count": 11,
   "metadata": {},
   "outputs": [
    {
     "name": "stdout",
     "output_type": "stream",
     "text": [
      "Exception occurred: division by zero\n"
     ]
    }
   ],
   "source": [
    "try:\n",
    "    i = 1/0\n",
    "except Exception as ex:\n",
    "    print('Exception occurred: {}'.format(ex))"
   ]
  },
  {
   "cell_type": "code",
   "execution_count": 22,
   "metadata": {},
   "outputs": [
    {
     "name": "stdout",
     "output_type": "stream",
     "text": [
      "-------------------\n",
      "For k=  2\n",
      "i:  3\n",
      "Always run this\n",
      "-------------------\n",
      "For k=  2\n",
      "Exception occurred: unsupported operand type(s) for +: 'int' and 'str'\n",
      "Always run this\n"
     ]
    }
   ],
   "source": [
    "List = [2, '2']\n",
    "for k in List:\n",
    "    print('-------------------')\n",
    "    print('For k= ',k)\n",
    "    try:\n",
    "        i = 1 + k\n",
    "    except Exception as ex:\n",
    "        print('Exception occurred: {}'.format(ex))\n",
    "    else:\n",
    "        print('i: ',i)\n",
    "    finally:\n",
    "        print('Always run this')"
   ]
  }
 ],
 "metadata": {
  "kernelspec": {
   "display_name": "Python 3",
   "language": "python",
   "name": "python3"
  },
  "language_info": {
   "codemirror_mode": {
    "name": "ipython",
    "version": 3
   },
   "file_extension": ".py",
   "mimetype": "text/x-python",
   "name": "python",
   "nbconvert_exporter": "python",
   "pygments_lexer": "ipython3",
   "version": "3.5.6"
  }
 },
 "nbformat": 4,
 "nbformat_minor": 2
}
