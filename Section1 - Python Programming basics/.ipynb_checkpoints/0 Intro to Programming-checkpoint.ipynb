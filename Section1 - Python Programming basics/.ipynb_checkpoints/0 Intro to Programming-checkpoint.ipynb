{
 "cells": [
  {
   "cell_type": "markdown",
   "metadata": {},
   "source": [
    "## Table of Contents\n",
    "---\n",
    "- __Types of software Industries__\n",
    "\n",
    "- __Programmer__ _vs_ __Software Engineer__\n",
    "\n",
    "- __Questions a Programmer should ask__\n",
    "\n",
    "\n"
   ]
  },
  {
   "cell_type": "markdown",
   "metadata": {},
   "source": [
    "### Service Based Industries \n",
    "<img src=\"pictures/serviceBased.png\">\n",
    "\n",
    "\n",
    "### Producet Based Industries \n",
    "<img src=\"pictures/productBased.png\">\n"
   ]
  },
  {
   "cell_type": "markdown",
   "metadata": {},
   "source": [
    "### Programmer vs Software engineer \n",
    "- Programmer solves the problems. \n",
    "- Software engineer develops the software. \n",
    "\n",
    "#### Software lifecycle\n",
    "<img src=\"pictures/cycle.jpeg\">"
   ]
  },
  {
   "cell_type": "markdown",
   "metadata": {},
   "source": [
    "## Questions a programmer should ask\n",
    "__1. What is the end goal ?__\n",
    "    - What is the problem, do you have the solution ready.\n",
    "    - Is the solution optimized ? (Time complexity & space complexity)\n",
    "__2. How to instruct the computer to solve our end goal ?__\n",
    "    - But How does it know ? \n",
    "         -  http://www.buthowdoitknow.com/but_how_do_it_know_cpu_model.html\n",
    "    - How to instruct ? which Programming languages to choose ? \n",
    "    - Highlevel vs Lowlevel ? when to use what ? "
   ]
  },
  {
   "cell_type": "code",
   "execution_count": null,
   "metadata": {},
   "outputs": [],
   "source": []
  },
  {
   "cell_type": "code",
   "execution_count": null,
   "metadata": {},
   "outputs": [],
   "source": []
  },
  {
   "cell_type": "code",
   "execution_count": null,
   "metadata": {},
   "outputs": [],
   "source": []
  }
 ],
 "metadata": {
  "kernelspec": {
   "display_name": "Python 3",
   "language": "python",
   "name": "python3"
  },
  "language_info": {
   "codemirror_mode": {
    "name": "ipython",
    "version": 3
   },
   "file_extension": ".py",
   "mimetype": "text/x-python",
   "name": "python",
   "nbconvert_exporter": "python",
   "pygments_lexer": "ipython3",
   "version": "3.5.6"
  }
 },
 "nbformat": 4,
 "nbformat_minor": 2
}
