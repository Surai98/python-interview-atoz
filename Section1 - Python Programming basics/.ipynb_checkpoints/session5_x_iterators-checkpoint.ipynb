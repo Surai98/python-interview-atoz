{
 "cells": [
  {
   "cell_type": "code",
   "execution_count": 1,
   "metadata": {},
   "outputs": [],
   "source": [
    "class mycls():\n",
    "\n",
    "        \n",
    "    def __init__(self):\n",
    "        self.a = \"n1\"\n",
    "        self.b = \"n2\"\n",
    "        self.c = \"n3\"\n",
    "        self.d = \"n4\"\n",
    "        \n",
    "\n",
    "    def __iter__(self):\n",
    "        yield self.a\n",
    "        yield self.b\n",
    "        yield self.c\n",
    "        yield self.d\n",
    "        "
   ]
  },
  {
   "cell_type": "code",
   "execution_count": null,
   "metadata": {},
   "outputs": [],
   "source": [
    "def foo():\n",
    "    yield \"a\"\n",
    "    yield \"b\"\n",
    "    yield \"c\"\n",
    "    yield \"d\""
   ]
  },
  {
   "cell_type": "code",
   "execution_count": 2,
   "metadata": {},
   "outputs": [
    {
     "name": "stdout",
     "output_type": "stream",
     "text": [
      "<class '__main__.mycls'> <class 'generator'>\n"
     ]
    }
   ],
   "source": [
    "obj = mycls()\n",
    "\n",
    "print(type(obj), type(iter(obj)))"
   ]
  },
  {
   "cell_type": "code",
   "execution_count": null,
   "metadata": {},
   "outputs": [],
   "source": [
    "for i in obj:\n",
    "    print(i)\n",
    "    \n",
    "for i in obj:\n",
    "    print(i)"
   ]
  },
  {
   "cell_type": "code",
   "execution_count": null,
   "metadata": {},
   "outputs": [],
   "source": [
    "for i in obj:\n",
    "    for j in obj:\n",
    "        print(i,j)"
   ]
  },
  {
   "cell_type": "code",
   "execution_count": null,
   "metadata": {},
   "outputs": [],
   "source": [
    "class mycls():\n",
    "    \n",
    "    class myclsIter(mycls):\n",
    "        def __init__(self):\n",
    "            mycls.__init__(self)\n",
    "            self.iteration = 0\n",
    "\n",
    "    \n",
    "        def __next__(self):\n",
    "            if self.iteration >= 4:\n",
    "                self.iteration = 0\n",
    "                raise StopIteration\n",
    "\n",
    "            if self.iteration == 0:\n",
    "                self.iteration += 1\n",
    "                return self.a\n",
    "            elif self.iteration == 1:\n",
    "                self.iteration += 1\n",
    "                return self.b\n",
    "            elif self.iteration == 2:\n",
    "                self.iteration += 1\n",
    "                return self.c\n",
    "            elif self.iteration == 3:\n",
    "                self.iteration += 1\n",
    "                return self.d\n",
    "        \n",
    "        \n",
    "        \n",
    "    def __init__(self):\n",
    "        self.a = \"n1\"\n",
    "        self.b = \"n2\"\n",
    "        self.c = \"n3\"\n",
    "        self.d = \"n4\"\n",
    "        \n",
    "\n",
    "    def __iter__(self):\n",
    "        return self.myclsIter()\n",
    "        \n",
    "        "
   ]
  },
  {
   "cell_type": "code",
   "execution_count": null,
   "metadata": {},
   "outputs": [],
   "source": []
  },
  {
   "cell_type": "code",
   "execution_count": null,
   "metadata": {},
   "outputs": [],
   "source": []
  },
  {
   "cell_type": "code",
   "execution_count": null,
   "metadata": {},
   "outputs": [],
   "source": []
  }
 ],
 "metadata": {
  "kernelspec": {
   "display_name": "Python 3",
   "language": "python",
   "name": "python3"
  },
  "language_info": {
   "codemirror_mode": {
    "name": "ipython",
    "version": 3
   },
   "file_extension": ".py",
   "mimetype": "text/x-python",
   "name": "python",
   "nbconvert_exporter": "python",
   "pygments_lexer": "ipython3",
   "version": "3.5.6"
  }
 },
 "nbformat": 4,
 "nbformat_minor": 2
}
